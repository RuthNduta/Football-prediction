{
  "nbformat": 4,
  "nbformat_minor": 0,
  "metadata": {
    "colab": {
      "name": " Football Prediction Analysis by Ruth Nduta.ipynb",
      "provenance": [],
      "collapsed_sections": [],
      "toc_visible": true,
      "machine_shape": "hm"
    },
    "kernelspec": {
      "name": "python3",
      "display_name": "Python 3"
    },
    "accelerator": "GPU"
  },
  "cells": [
    {
      "cell_type": "markdown",
      "metadata": {
        "id": "xMxtPsqcTsSH"
      },
      "source": [
        "# Football prediction"
      ]
    },
    {
      "cell_type": "markdown",
      "metadata": {
        "id": "kLG2VTrnTvYL"
      },
      "source": [
        "## 1. Defining the Question"
      ]
    },
    {
      "cell_type": "markdown",
      "metadata": {
        "id": "XecOwPNorl2W"
      },
      "source": [
        "### a) Specifying the Data Analytic Question"
      ]
    },
    {
      "cell_type": "markdown",
      "metadata": {
        "id": "9ozBnKfehSAw"
      },
      "source": [
        "> To create a model that will predict the result of a game between team 1 and team 2, based on who's home and who's away, and on whether or not the game is friendly while checking the rankings of the team."
      ]
    },
    {
      "cell_type": "markdown",
      "metadata": {
        "id": "J4wfHZwQrs-t"
      },
      "source": [
        "### b) Defining the Metric for Success"
      ]
    },
    {
      "cell_type": "markdown",
      "metadata": {
        "id": "3zaOQfWJ-sNv"
      },
      "source": [
        "The project will be considered a success if the models created are able to predict results of a game to an accuracy between 70-80%"
      ]
    },
    {
      "cell_type": "markdown",
      "metadata": {
        "id": "a9BPYqunry97"
      },
      "source": [
        "### c) Understanding the context "
      ]
    },
    {
      "cell_type": "markdown",
      "metadata": {
        "id": "KW-h9OmzBW8q"
      },
      "source": [
        "The men's FIFA World Ranking is a ranking system for men's national teams in association football. The teams of the men's member nations of FIFA, football's world governing body, are ranked based on their game results with the most successful teams being ranked highest. The rankings were introduced in December 1992.\n",
        "\n",
        "**How the rankings are calculated:**\n",
        "\n",
        "The rankings are calculated using an algorithm called Elo.\n",
        "The Elo method of calculation adds/subtracts points (as opposed to averaging points) for individual\n",
        "matches to/from a team’s existing point total. The points which are added or subtracted are partially\n",
        "determined by the relative strength of the two opponents, including the logical expectation that teams\n",
        "higher in the ranking should fare better against teams lower in the ranking.\n",
        "\n",
        "\n"
      ]
    },
    {
      "cell_type": "markdown",
      "metadata": {
        "id": "TBHibwUUJRav"
      },
      "source": [
        "### d) Experimental design taken"
      ]
    },
    {
      "cell_type": "markdown",
      "metadata": {
        "id": "Q95NytrmJ0ww"
      },
      "source": [
        "In this study, we will be conducting Explorative Data Analysis, i.e Univariate, Bivariate and Multivariate Analysis to get the relationships and differences between different variables. We will also create models using polynomial regression and logistic regression\n"
      ]
    },
    {
      "cell_type": "markdown",
      "metadata": {
        "id": "zSGyg6kWsBUl"
      },
      "source": [
        "### e) Data Relevance"
      ]
    },
    {
      "cell_type": "markdown",
      "metadata": {
        "id": "nrHJXM0rNK1g"
      },
      "source": [
        "We will be using data two datasets\n",
        "\n",
        "\n",
        "1.  FIFA rankings from 1993 to 2018 as fifa_rankings.csv\n",
        "\n",
        "This one shows the FIFA ranking and points for the teams. It shows a monthly ranking of team performance\n",
        "2.  International Soccer matches from 1872 to 2019 as results.csv\n",
        "\n",
        "This one shows teams, scores, tournament type and country the game was played from\n",
        "\n",
        "Both our datasets consists of information on football rankings over time and are therefore suitable to create a model that will be used to predict the result of a game between team 1 and team 2, based on who's home and who's away, and on whether or not the game is friendly while checking the rankings of the team.\n",
        "\n"
      ]
    },
    {
      "cell_type": "markdown",
      "metadata": {
        "id": "iUNbvIvnT7ep"
      },
      "source": [
        "## 2. Reading the Data"
      ]
    },
    {
      "cell_type": "code",
      "metadata": {
        "id": "sneeWA-6ORxk"
      },
      "source": [
        "#First we will import the necessary libraries\n",
        "\n",
        "import numpy as np\n",
        "import pandas as pd\n",
        "import matplotlib.pyplot as plt\n",
        "import seaborn as sns\n",
        "import scipy.stats as stats\n",
        "import warnings\n",
        "warnings.filterwarnings('ignore')\n"
      ],
      "execution_count": null,
      "outputs": []
    },
    {
      "cell_type": "code",
      "metadata": {
        "id": "XJn2KjW-WMlG",
        "outputId": "952f2600-a4c1-4300-a5f6-8042c5368c86",
        "colab": {
          "base_uri": "https://localhost:8080/",
          "height": 213
        }
      },
      "source": [
        "# Loading the Data from the source\n",
        "# ---\n",
        "ranking = pd.read_csv('fifa_ranking.csv')\n",
        "#Previewing the upper part of the data\n",
        "ranking.head(3)"
      ],
      "execution_count": null,
      "outputs": [
        {
          "output_type": "execute_result",
          "data": {
            "text/html": [
              "<div>\n",
              "<style scoped>\n",
              "    .dataframe tbody tr th:only-of-type {\n",
              "        vertical-align: middle;\n",
              "    }\n",
              "\n",
              "    .dataframe tbody tr th {\n",
              "        vertical-align: top;\n",
              "    }\n",
              "\n",
              "    .dataframe thead th {\n",
              "        text-align: right;\n",
              "    }\n",
              "</style>\n",
              "<table border=\"1\" class=\"dataframe\">\n",
              "  <thead>\n",
              "    <tr style=\"text-align: right;\">\n",
              "      <th></th>\n",
              "      <th>rank</th>\n",
              "      <th>country_full</th>\n",
              "      <th>country_abrv</th>\n",
              "      <th>total_points</th>\n",
              "      <th>previous_points</th>\n",
              "      <th>rank_change</th>\n",
              "      <th>cur_year_avg</th>\n",
              "      <th>cur_year_avg_weighted</th>\n",
              "      <th>last_year_avg</th>\n",
              "      <th>last_year_avg_weighted</th>\n",
              "      <th>two_year_ago_avg</th>\n",
              "      <th>two_year_ago_weighted</th>\n",
              "      <th>three_year_ago_avg</th>\n",
              "      <th>three_year_ago_weighted</th>\n",
              "      <th>confederation</th>\n",
              "      <th>rank_date</th>\n",
              "    </tr>\n",
              "  </thead>\n",
              "  <tbody>\n",
              "    <tr>\n",
              "      <th>0</th>\n",
              "      <td>1</td>\n",
              "      <td>Germany</td>\n",
              "      <td>GER</td>\n",
              "      <td>0.0</td>\n",
              "      <td>57</td>\n",
              "      <td>0</td>\n",
              "      <td>0.0</td>\n",
              "      <td>0.0</td>\n",
              "      <td>0.0</td>\n",
              "      <td>0.0</td>\n",
              "      <td>0.0</td>\n",
              "      <td>0.0</td>\n",
              "      <td>0.0</td>\n",
              "      <td>0.0</td>\n",
              "      <td>UEFA</td>\n",
              "      <td>1993-08-08</td>\n",
              "    </tr>\n",
              "    <tr>\n",
              "      <th>1</th>\n",
              "      <td>2</td>\n",
              "      <td>Italy</td>\n",
              "      <td>ITA</td>\n",
              "      <td>0.0</td>\n",
              "      <td>57</td>\n",
              "      <td>0</td>\n",
              "      <td>0.0</td>\n",
              "      <td>0.0</td>\n",
              "      <td>0.0</td>\n",
              "      <td>0.0</td>\n",
              "      <td>0.0</td>\n",
              "      <td>0.0</td>\n",
              "      <td>0.0</td>\n",
              "      <td>0.0</td>\n",
              "      <td>UEFA</td>\n",
              "      <td>1993-08-08</td>\n",
              "    </tr>\n",
              "    <tr>\n",
              "      <th>2</th>\n",
              "      <td>3</td>\n",
              "      <td>Switzerland</td>\n",
              "      <td>SUI</td>\n",
              "      <td>0.0</td>\n",
              "      <td>50</td>\n",
              "      <td>9</td>\n",
              "      <td>0.0</td>\n",
              "      <td>0.0</td>\n",
              "      <td>0.0</td>\n",
              "      <td>0.0</td>\n",
              "      <td>0.0</td>\n",
              "      <td>0.0</td>\n",
              "      <td>0.0</td>\n",
              "      <td>0.0</td>\n",
              "      <td>UEFA</td>\n",
              "      <td>1993-08-08</td>\n",
              "    </tr>\n",
              "  </tbody>\n",
              "</table>\n",
              "</div>"
            ],
            "text/plain": [
              "   rank country_full  ... confederation   rank_date\n",
              "0     1      Germany  ...          UEFA  1993-08-08\n",
              "1     2        Italy  ...          UEFA  1993-08-08\n",
              "2     3  Switzerland  ...          UEFA  1993-08-08\n",
              "\n",
              "[3 rows x 16 columns]"
            ]
          },
          "metadata": {
            "tags": []
          },
          "execution_count": 4
        }
      ]
    },
    {
      "cell_type": "code",
      "metadata": {
        "id": "TxX5yWv3nSXe",
        "outputId": "33e60553-ff8e-44f8-afa3-d6403b5f4741",
        "colab": {
          "base_uri": "https://localhost:8080/",
          "height": 204
        }
      },
      "source": [
        "# Loading the results Dataframe \n",
        "# ---\n",
        "results = pd.read_csv('results.csv')\n",
        "\n",
        "#Previewing the data\n",
        "results.head()"
      ],
      "execution_count": null,
      "outputs": [
        {
          "output_type": "execute_result",
          "data": {
            "text/html": [
              "<div>\n",
              "<style scoped>\n",
              "    .dataframe tbody tr th:only-of-type {\n",
              "        vertical-align: middle;\n",
              "    }\n",
              "\n",
              "    .dataframe tbody tr th {\n",
              "        vertical-align: top;\n",
              "    }\n",
              "\n",
              "    .dataframe thead th {\n",
              "        text-align: right;\n",
              "    }\n",
              "</style>\n",
              "<table border=\"1\" class=\"dataframe\">\n",
              "  <thead>\n",
              "    <tr style=\"text-align: right;\">\n",
              "      <th></th>\n",
              "      <th>date</th>\n",
              "      <th>home_team</th>\n",
              "      <th>away_team</th>\n",
              "      <th>home_score</th>\n",
              "      <th>away_score</th>\n",
              "      <th>tournament</th>\n",
              "      <th>city</th>\n",
              "      <th>country</th>\n",
              "      <th>neutral</th>\n",
              "    </tr>\n",
              "  </thead>\n",
              "  <tbody>\n",
              "    <tr>\n",
              "      <th>0</th>\n",
              "      <td>1872-11-30</td>\n",
              "      <td>Scotland</td>\n",
              "      <td>England</td>\n",
              "      <td>0</td>\n",
              "      <td>0</td>\n",
              "      <td>Friendly</td>\n",
              "      <td>Glasgow</td>\n",
              "      <td>Scotland</td>\n",
              "      <td>False</td>\n",
              "    </tr>\n",
              "    <tr>\n",
              "      <th>1</th>\n",
              "      <td>1873-03-08</td>\n",
              "      <td>England</td>\n",
              "      <td>Scotland</td>\n",
              "      <td>4</td>\n",
              "      <td>2</td>\n",
              "      <td>Friendly</td>\n",
              "      <td>London</td>\n",
              "      <td>England</td>\n",
              "      <td>False</td>\n",
              "    </tr>\n",
              "    <tr>\n",
              "      <th>2</th>\n",
              "      <td>1874-03-07</td>\n",
              "      <td>Scotland</td>\n",
              "      <td>England</td>\n",
              "      <td>2</td>\n",
              "      <td>1</td>\n",
              "      <td>Friendly</td>\n",
              "      <td>Glasgow</td>\n",
              "      <td>Scotland</td>\n",
              "      <td>False</td>\n",
              "    </tr>\n",
              "    <tr>\n",
              "      <th>3</th>\n",
              "      <td>1875-03-06</td>\n",
              "      <td>England</td>\n",
              "      <td>Scotland</td>\n",
              "      <td>2</td>\n",
              "      <td>2</td>\n",
              "      <td>Friendly</td>\n",
              "      <td>London</td>\n",
              "      <td>England</td>\n",
              "      <td>False</td>\n",
              "    </tr>\n",
              "    <tr>\n",
              "      <th>4</th>\n",
              "      <td>1876-03-04</td>\n",
              "      <td>Scotland</td>\n",
              "      <td>England</td>\n",
              "      <td>3</td>\n",
              "      <td>0</td>\n",
              "      <td>Friendly</td>\n",
              "      <td>Glasgow</td>\n",
              "      <td>Scotland</td>\n",
              "      <td>False</td>\n",
              "    </tr>\n",
              "  </tbody>\n",
              "</table>\n",
              "</div>"
            ],
            "text/plain": [
              "         date home_team away_team  ...     city   country neutral\n",
              "0  1872-11-30  Scotland   England  ...  Glasgow  Scotland   False\n",
              "1  1873-03-08   England  Scotland  ...   London   England   False\n",
              "2  1874-03-07  Scotland   England  ...  Glasgow  Scotland   False\n",
              "3  1875-03-06   England  Scotland  ...   London   England   False\n",
              "4  1876-03-04  Scotland   England  ...  Glasgow  Scotland   False\n",
              "\n",
              "[5 rows x 9 columns]"
            ]
          },
          "metadata": {
            "tags": []
          },
          "execution_count": 5
        }
      ]
    },
    {
      "cell_type": "markdown",
      "metadata": {
        "id": "OI3P3YnHUEBk"
      },
      "source": [
        "## 3. Checking the Datasets"
      ]
    },
    {
      "cell_type": "code",
      "metadata": {
        "id": "YjSVNwgptHxY",
        "outputId": "be59a0fa-2f20-424d-ed19-fdd803bb1041",
        "colab": {
          "base_uri": "https://localhost:8080/"
        }
      },
      "source": [
        "# Determining the no. of records in our dataset\n",
        "#\n",
        "print(\"The rows and columns for the ranking dataset: \", ranking.shape)\n",
        "print(\"The rows and columns for the results dataset: \", results.shape)\n"
      ],
      "execution_count": null,
      "outputs": [
        {
          "output_type": "stream",
          "text": [
            "The rows and columns for the ranking dataset:  (57793, 16)\n",
            "The rows and columns for the results dataset:  (40839, 9)\n"
          ],
          "name": "stdout"
        }
      ]
    },
    {
      "cell_type": "code",
      "metadata": {
        "id": "n8-dW4sQWzbc",
        "outputId": "c92cb46b-e034-4ea3-8306-fcdc0b22d314",
        "colab": {
          "base_uri": "https://localhost:8080/"
        }
      },
      "source": [
        "# Checking whether each column has an appropriate datatype\n",
        "\n",
        "print(\"Datatypes for ranking dataset: \")\n",
        "print(ranking.dtypes)\n",
        "print(\"*****************\")\n",
        "print(\"Datatypes for results dataset: \")\n",
        "print(results.dtypes)\n"
      ],
      "execution_count": null,
      "outputs": [
        {
          "output_type": "stream",
          "text": [
            "Datatypes for ranking dataset: \n",
            "rank                         int64\n",
            "country_full                object\n",
            "country_abrv                object\n",
            "total_points               float64\n",
            "previous_points              int64\n",
            "rank_change                  int64\n",
            "cur_year_avg               float64\n",
            "cur_year_avg_weighted      float64\n",
            "last_year_avg              float64\n",
            "last_year_avg_weighted     float64\n",
            "two_year_ago_avg           float64\n",
            "two_year_ago_weighted      float64\n",
            "three_year_ago_avg         float64\n",
            "three_year_ago_weighted    float64\n",
            "confederation               object\n",
            "rank_date                   object\n",
            "dtype: object\n",
            "*****************\n",
            "Datatypes for results dataset: \n",
            "date          object\n",
            "home_team     object\n",
            "away_team     object\n",
            "home_score     int64\n",
            "away_score     int64\n",
            "tournament    object\n",
            "city          object\n",
            "country       object\n",
            "neutral         bool\n",
            "dtype: object\n"
          ],
          "name": "stdout"
        }
      ]
    },
    {
      "cell_type": "markdown",
      "metadata": {
        "id": "FlBMxEDBUc9B"
      },
      "source": [
        "## 4. Tidying the Dataset"
      ]
    },
    {
      "cell_type": "code",
      "metadata": {
        "id": "O3gYMIr5tgjW"
      },
      "source": [
        "#First, we change the columns containing dates from the datatype object\n",
        "#to datetime in both datasets\n",
        "ranking['rank_date'] = pd.to_datetime(ranking['rank_date'])\n",
        "results['date'] = pd.to_datetime(results['date'])"
      ],
      "execution_count": null,
      "outputs": []
    },
    {
      "cell_type": "code",
      "metadata": {
        "id": "58nZqcoTuIk2",
        "outputId": "2a93911c-98c0-4c93-c5e0-ae4718a3775b",
        "colab": {
          "base_uri": "https://localhost:8080/"
        }
      },
      "source": [
        "#Checking for null values\n",
        "results.isnull().sum()"
      ],
      "execution_count": null,
      "outputs": [
        {
          "output_type": "execute_result",
          "data": {
            "text/plain": [
              "date          0\n",
              "home_team     0\n",
              "away_team     0\n",
              "home_score    0\n",
              "away_score    0\n",
              "tournament    0\n",
              "city          0\n",
              "country       0\n",
              "neutral       0\n",
              "dtype: int64"
            ]
          },
          "metadata": {
            "tags": []
          },
          "execution_count": 9
        }
      ]
    },
    {
      "cell_type": "code",
      "metadata": {
        "id": "NNKhjzvQxSfr",
        "outputId": "550058f0-1d36-41cd-a091-8f0a5bbe5914",
        "colab": {
          "base_uri": "https://localhost:8080/"
        }
      },
      "source": [
        "ranking.isnull().sum()"
      ],
      "execution_count": null,
      "outputs": [
        {
          "output_type": "execute_result",
          "data": {
            "text/plain": [
              "rank                       0\n",
              "country_full               0\n",
              "country_abrv               0\n",
              "total_points               0\n",
              "previous_points            0\n",
              "rank_change                0\n",
              "cur_year_avg               0\n",
              "cur_year_avg_weighted      0\n",
              "last_year_avg              0\n",
              "last_year_avg_weighted     0\n",
              "two_year_ago_avg           0\n",
              "two_year_ago_weighted      0\n",
              "three_year_ago_avg         0\n",
              "three_year_ago_weighted    0\n",
              "confederation              0\n",
              "rank_date                  0\n",
              "dtype: int64"
            ]
          },
          "metadata": {
            "tags": []
          },
          "execution_count": 10
        }
      ]
    },
    {
      "cell_type": "code",
      "metadata": {
        "id": "PWlukLKUvFQN",
        "outputId": "83c910c9-d86b-4744-f6c4-07bd74c99d68",
        "colab": {
          "base_uri": "https://localhost:8080/"
        }
      },
      "source": [
        "# Checking for Anomalies\n",
        "ranking['country_full'].unique()"
      ],
      "execution_count": null,
      "outputs": [
        {
          "output_type": "execute_result",
          "data": {
            "text/plain": [
              "array(['Germany', 'Italy', 'Switzerland', 'Sweden', 'Argentina',\n",
              "       'Republic of Ireland', 'Russia', 'Brazil', 'Norway', 'Denmark',\n",
              "       'England', 'France', 'Spain', 'Mexico', 'RCS', 'Netherlands',\n",
              "       'Nigeria', 'Belgium', 'Colombia', 'Poland', 'Romania', 'Uruguay',\n",
              "       'Portugal', 'Cameroon', 'Zambia', 'Egypt', 'Wales', 'USA',\n",
              "       \"Côte d'Ivoire\", 'Scotland', 'Tunisia', 'Greece', 'Morocco',\n",
              "       'Algeria', 'Ecuador', 'Korea Republic', 'Bulgaria', 'Austria',\n",
              "       'Costa Rica', 'Northern Ireland', 'Honduras', 'Hungary', 'Japan',\n",
              "       'Saudi Arabia', 'China PR', 'Canada', 'Finland', 'Ghana', 'Chile',\n",
              "       'Zimbabwe', 'Qatar', 'Australia', 'Iceland', 'IR Iran',\n",
              "       'United Arab Emirates', 'Yugoslavia', 'Iraq', 'Senegal', 'Bolivia',\n",
              "       'Kuwait', 'Korea DPR', 'El Salvador', 'Turkey', 'Gabon', 'Guinea',\n",
              "       'Thailand', 'Paraguay', 'Malawi', 'Israel', 'Peru', 'Zaire',\n",
              "       'Cyprus', 'Singapore', 'Mali', 'Malaysia', 'Bermuda', 'Niger',\n",
              "       'Syria', 'Bahrain', 'New Zealand', 'Madagascar', 'Malta',\n",
              "       'Jamaica', 'Lithuania', 'Trinidad and Tobago', 'Sierra Leone',\n",
              "       'Jordan', 'Kenya', 'Latvia', 'Yemen', 'Tanzania', 'Albania',\n",
              "       'Angola', 'Venezuela', 'Ethiopia', 'Burundi', 'Oman', 'Indonesia',\n",
              "       'Liberia', 'Mozambique', 'Puerto Rico', 'Swaziland', 'Hong Kong',\n",
              "       'Uganda', 'Barbados', 'Myanmar', 'Congo', 'Lebanon',\n",
              "       'South Africa', 'Luxembourg', 'Faroe Islands', 'Guatemala',\n",
              "       'Burkina Faso', 'Togo', 'Suriname', 'Fiji', 'Croatia', 'Estonia',\n",
              "       'San Marino', 'Bangladesh', 'St Vincent and the Grenadines',\n",
              "       'Netherlands Antilles', 'Mauritius', 'Benin', 'Panama', 'Sudan',\n",
              "       'Antigua and Barbuda', 'Slovenia', 'India', 'Belarus', 'Ukraine',\n",
              "       'Vietnam', 'Guinea-Bissau', 'Guyana', 'Botswana', 'St Lucia',\n",
              "       'Tahiti', 'Grenada', 'Haiti', 'Libya', 'Laos', 'Mauritania',\n",
              "       'Cape Verde Islands', 'Solomon Islands', 'Brunei Darussalam',\n",
              "       'Lesotho', 'Dominican Republic', 'Pakistan', 'Nicaragua', 'Cuba',\n",
              "       'Seychelles', 'Central African Republic', 'Gambia', 'Namibia',\n",
              "       'Cayman Islands', 'Nepal', 'Liechtenstein', 'Equatorial Guinea',\n",
              "       'Chinese Taipei', 'Sri Lanka', 'Philippines', 'Chad', 'Vanuatu',\n",
              "       'Aruba', 'Bahamas', 'Maldives', 'Macau', 'Slovakia',\n",
              "       'St Kitts and Nevis', 'Czech Republic', 'Georgia', 'FYR Macedonia',\n",
              "       'Moldova', 'Armenia', 'Azerbaijan', 'Uzbekistan', 'Turkmenistan',\n",
              "       'Kazakhstan', 'Tajikistan', 'Kyrgyz Republic', 'Somalia',\n",
              "       'Djibouti', 'Dominica', 'Rwanda', 'Belize', 'Cambodia',\n",
              "       'Bosnia and Herzegovina', 'Guam', 'Papua New Guinea', 'Tonga',\n",
              "       'Samoa', 'Andorra', 'Cook Islands', 'British Virgin Islands',\n",
              "       'Anguilla', 'São Tomé e Príncipe', 'Eritrea', 'American Samoa',\n",
              "       'Palestine', 'Mongolia', 'Turks and Caicos Islands',\n",
              "       'US Virgin Islands', 'Montserrat', 'Congo DR', 'Bhutan',\n",
              "       'Serbia and Montenegro', 'Afghanistan', 'New Caledonia', 'Serbia',\n",
              "       'Timor-Leste', 'Comoros', 'Montenegro', 'Curaçao', 'South Sudan',\n",
              "       'Kosovo', 'Gibraltar'], dtype=object)"
            ]
          },
          "metadata": {
            "tags": []
          },
          "execution_count": 11
        }
      ]
    },
    {
      "cell_type": "code",
      "metadata": {
        "id": "t_CCrj-9y3mK",
        "outputId": "7911ae1f-b1f0-49d9-d2f9-ddf5686116ae",
        "colab": {
          "base_uri": "https://localhost:8080/"
        }
      },
      "source": [
        "results['country'].unique()"
      ],
      "execution_count": null,
      "outputs": [
        {
          "output_type": "execute_result",
          "data": {
            "text/plain": [
              "array(['Scotland', 'England', 'Wales', 'Republic of Ireland',\n",
              "       'United States', 'Uruguay', 'Austria', 'Hungary', 'Argentina',\n",
              "       'Belgium', 'France', 'Netherlands', 'Bohemia', 'Switzerland',\n",
              "       'Sweden', 'Germany', 'Italy', 'Chile', 'Norway', 'Finland',\n",
              "       'Luxembourg', 'Russia', 'Denmark', 'Spain', 'Japan', 'Brazil',\n",
              "       'Paraguay', 'China PR', 'Canada', 'Estonia', 'Guatemala',\n",
              "       'Czechoslovakia', 'Poland', 'Yugoslavia', 'New Zealand', 'Romania',\n",
              "       'Latvia', 'Portugal', 'Northern Ireland', 'Australia', 'Lithuania',\n",
              "       'Turkey', 'Mexico', 'Aruba', 'Soviet Union', 'Haiti',\n",
              "       'Philippines', 'Bulgaria', 'Jamaica', 'Kenya', 'Czech Republic',\n",
              "       'Peru', 'Honduras', 'British Guyana', 'Uganda', 'El Salvador',\n",
              "       'Barbados', 'Irish Free State', 'Trinidad and Tobago', 'Greece',\n",
              "       'Curaçao', 'Egypt', 'Dominica', 'Guadeloupe', 'Palestine',\n",
              "       'Netherlands Guyana', 'French Guiana', 'Cuba', 'Colombia',\n",
              "       'Saint Kitts and Nevis', 'Éire', 'Panama', 'Bohemia and Moravia',\n",
              "       'Slovakia', 'Manchuria', 'Croatia', 'Costa Rica', 'Afghanistan',\n",
              "       'Martinique', 'Southern Rhodesia', 'Iceland', 'Albania',\n",
              "       'Madagascar', 'Northern Rhodesia', 'Tanganyika', 'Iran', 'Ecuador',\n",
              "       'French Somaliland', 'Belgian Congo', 'Mauritius', 'Hong Kong',\n",
              "       'Vietnam', 'Macau', 'Ethiopia', 'Suriname', 'Puerto Rico',\n",
              "       'Réunion', 'Israel', 'Sierra Leone', 'Zanzibar', 'Bolivia',\n",
              "       'Gold Coast', 'South Africa', 'Netherlands Antilles',\n",
              "       'New Caledonia', 'Fiji', 'Nigeria', 'Venezuela', 'Ceylon',\n",
              "       'French Polynesia', 'Gambia', 'Singapore', 'Portuguese Guinea',\n",
              "       'German DR', 'New Hebrides', 'Burma', 'Saarland', 'Cambodia',\n",
              "       'India', 'Lebanon', 'Pakistan', 'Malaya', 'South Korea',\n",
              "       'Vietnam Republic', 'Togo', 'Indonesia', 'Sudan', 'Malta', 'Syria',\n",
              "       'Tunisia', 'Nyasaland', 'Ghana', 'Morocco', 'United Arab Republic',\n",
              "       'North Korea', 'Dahomey', 'Guinea-Bissau', 'Mali Federation',\n",
              "       'Mali', 'Vietnam DR', 'Cyprus', 'Iraq', 'Saint Lucia', 'Senegal',\n",
              "       'Libya', 'Gabon', 'Thailand', 'Congo', 'Tanzania', 'Grenada',\n",
              "       'Guinea', 'Central African Republic', 'Cameroon', 'Algeria',\n",
              "       'Kuwait', 'Ivory Coast', 'Lautoka', 'Liberia', 'Malaysia',\n",
              "       'Jordan', 'Zambia', 'Saint Vincent and the Grenadines', 'Bermuda',\n",
              "       'Niger', 'Malawi', 'DR Congo', 'Upper Volta', 'Chinese Taipei',\n",
              "       'Guyana', 'Mauritania', 'Rhodesia', 'Saudi Arabia', 'Eswatini',\n",
              "       'Mozambique', 'Papua New Guinea', 'Bahrain', 'Lesotho', 'Somalia',\n",
              "       'Zaïre', 'Sri Lanka', 'Antigua and Barbuda', 'Faroe Islands',\n",
              "       'Qatar', 'Yemen DPR', 'Burundi', 'Guam', 'Chad', 'Angola',\n",
              "       'Dominican Republic', 'Seychelles', 'São Tomé and Príncipe',\n",
              "       'Botswana', 'Benin', 'Rwanda', 'Bangladesh',\n",
              "       'United Arab Emirates', 'Zimbabwe', 'Oman', 'Equatorial Guinea',\n",
              "       'Cape Verde', 'Liechtenstein', 'Nepal', 'Greenland', 'Vanuatu',\n",
              "       'Western Samoa', 'Belize', 'Brunei', 'Djibouti', 'Burkina Faso',\n",
              "       'Yemen AR', 'Anguilla', 'Nicaragua', 'Cayman Islands', 'Monaco',\n",
              "       'Solomon Islands', 'Sint Maarten', 'Namibia', 'Saint Martin',\n",
              "       'San Marino', 'Slovenia', 'Moldova', 'Ukraine', 'Kazakhstan',\n",
              "       'Tajikistan', 'Uzbekistan', 'Turkmenistan', 'Georgia',\n",
              "       'Kyrgyzstan', 'Armenia', 'Belarus', 'Guernsey', 'Azerbaijan',\n",
              "       'North Macedonia', 'Jersey', 'Montserrat', 'Gibraltar',\n",
              "       'Bosnia and Herzegovina', 'Tonga', 'Andorra', 'Yemen',\n",
              "       'U.S. Virgin Islands', 'Palau', 'Cook Islands',\n",
              "       'British Virgin Islands', 'Eritrea', 'Bahamas', 'Micronesia',\n",
              "       'Maldives', 'Laos', 'Isle of Man', 'Samoa', 'Bhutan',\n",
              "       'Serbia and Montenegro', 'Mayotte', 'Mongolia', 'Northern Cyprus',\n",
              "       'Serbia', 'Montenegro', 'Northern Mariana Islands', 'Comoros',\n",
              "       'Turks and Caicos Islands', 'South Sudan', 'Kosovo', 'East Timor',\n",
              "       'Tahiti', 'Myanmar'], dtype=object)"
            ]
          },
          "metadata": {
            "tags": []
          },
          "execution_count": 12
        }
      ]
    },
    {
      "cell_type": "markdown",
      "metadata": {
        "id": "sltBBKpvj7bg"
      },
      "source": [
        "To continue with cleaning the dataset and further move to feature engineering, it is important for us to gauge which variables will be necessary for our analysis and also classify which variables will be used as features and which will be the target.\n",
        "\n",
        "**Target**: Since we are creating a model that can predict results of a football match, **results will be our target**\n",
        "\n",
        "**Features**: the following will be the features used in the model to predict the results; **rank, country, weighted_points, year, home_team, away_team, home_score, away_score tournament**"
      ]
    },
    {
      "cell_type": "code",
      "metadata": {
        "id": "NnUjW7JsbCis",
        "outputId": "962421cd-0081-4c1a-d55b-c9efea72a23b",
        "colab": {
          "base_uri": "https://localhost:8080/",
          "height": 142
        }
      },
      "source": [
        "#Droppping columns\n",
        "\n",
        "ranking = ranking.drop(columns=['country_abrv', 'total_points','previous_points', \n",
        "                                 'rank_change', 'cur_year_avg','last_year_avg', 'last_year_avg_weighted',\n",
        "                                 'two_year_ago_avg','three_year_ago_avg','confederation'])\n",
        "ranking.head(3)"
      ],
      "execution_count": null,
      "outputs": [
        {
          "output_type": "execute_result",
          "data": {
            "text/html": [
              "<div>\n",
              "<style scoped>\n",
              "    .dataframe tbody tr th:only-of-type {\n",
              "        vertical-align: middle;\n",
              "    }\n",
              "\n",
              "    .dataframe tbody tr th {\n",
              "        vertical-align: top;\n",
              "    }\n",
              "\n",
              "    .dataframe thead th {\n",
              "        text-align: right;\n",
              "    }\n",
              "</style>\n",
              "<table border=\"1\" class=\"dataframe\">\n",
              "  <thead>\n",
              "    <tr style=\"text-align: right;\">\n",
              "      <th></th>\n",
              "      <th>rank</th>\n",
              "      <th>country_full</th>\n",
              "      <th>cur_year_avg_weighted</th>\n",
              "      <th>two_year_ago_weighted</th>\n",
              "      <th>three_year_ago_weighted</th>\n",
              "      <th>rank_date</th>\n",
              "    </tr>\n",
              "  </thead>\n",
              "  <tbody>\n",
              "    <tr>\n",
              "      <th>0</th>\n",
              "      <td>1</td>\n",
              "      <td>Germany</td>\n",
              "      <td>0.0</td>\n",
              "      <td>0.0</td>\n",
              "      <td>0.0</td>\n",
              "      <td>1993-08-08</td>\n",
              "    </tr>\n",
              "    <tr>\n",
              "      <th>1</th>\n",
              "      <td>2</td>\n",
              "      <td>Italy</td>\n",
              "      <td>0.0</td>\n",
              "      <td>0.0</td>\n",
              "      <td>0.0</td>\n",
              "      <td>1993-08-08</td>\n",
              "    </tr>\n",
              "    <tr>\n",
              "      <th>2</th>\n",
              "      <td>3</td>\n",
              "      <td>Switzerland</td>\n",
              "      <td>0.0</td>\n",
              "      <td>0.0</td>\n",
              "      <td>0.0</td>\n",
              "      <td>1993-08-08</td>\n",
              "    </tr>\n",
              "  </tbody>\n",
              "</table>\n",
              "</div>"
            ],
            "text/plain": [
              "   rank country_full  ...  three_year_ago_weighted  rank_date\n",
              "0     1      Germany  ...                      0.0 1993-08-08\n",
              "1     2        Italy  ...                      0.0 1993-08-08\n",
              "2     3  Switzerland  ...                      0.0 1993-08-08\n",
              "\n",
              "[3 rows x 6 columns]"
            ]
          },
          "metadata": {
            "tags": []
          },
          "execution_count": 13
        }
      ]
    },
    {
      "cell_type": "code",
      "metadata": {
        "id": "tIVMr5z2oKQV",
        "outputId": "9c18893a-b94e-402f-d2da-07a5127ad240",
        "colab": {
          "base_uri": "https://localhost:8080/",
          "height": 165
        }
      },
      "source": [
        "#Calculating the  sum of the weighted points\n",
        "ranking['weighted_points'] =  ranking['cur_year_avg_weighted'] + ranking['two_year_ago_weighted'] + ranking['three_year_ago_weighted']\n",
        "ranking.head(2)"
      ],
      "execution_count": null,
      "outputs": [
        {
          "output_type": "execute_result",
          "data": {
            "text/html": [
              "<div>\n",
              "<style scoped>\n",
              "    .dataframe tbody tr th:only-of-type {\n",
              "        vertical-align: middle;\n",
              "    }\n",
              "\n",
              "    .dataframe tbody tr th {\n",
              "        vertical-align: top;\n",
              "    }\n",
              "\n",
              "    .dataframe thead th {\n",
              "        text-align: right;\n",
              "    }\n",
              "</style>\n",
              "<table border=\"1\" class=\"dataframe\">\n",
              "  <thead>\n",
              "    <tr style=\"text-align: right;\">\n",
              "      <th></th>\n",
              "      <th>rank</th>\n",
              "      <th>country_full</th>\n",
              "      <th>cur_year_avg_weighted</th>\n",
              "      <th>two_year_ago_weighted</th>\n",
              "      <th>three_year_ago_weighted</th>\n",
              "      <th>rank_date</th>\n",
              "      <th>weighted_points</th>\n",
              "    </tr>\n",
              "  </thead>\n",
              "  <tbody>\n",
              "    <tr>\n",
              "      <th>0</th>\n",
              "      <td>1</td>\n",
              "      <td>Germany</td>\n",
              "      <td>0.0</td>\n",
              "      <td>0.0</td>\n",
              "      <td>0.0</td>\n",
              "      <td>1993-08-08</td>\n",
              "      <td>0.0</td>\n",
              "    </tr>\n",
              "    <tr>\n",
              "      <th>1</th>\n",
              "      <td>2</td>\n",
              "      <td>Italy</td>\n",
              "      <td>0.0</td>\n",
              "      <td>0.0</td>\n",
              "      <td>0.0</td>\n",
              "      <td>1993-08-08</td>\n",
              "      <td>0.0</td>\n",
              "    </tr>\n",
              "  </tbody>\n",
              "</table>\n",
              "</div>"
            ],
            "text/plain": [
              "   rank country_full  ...  rank_date  weighted_points\n",
              "0     1      Germany  ... 1993-08-08              0.0\n",
              "1     2        Italy  ... 1993-08-08              0.0\n",
              "\n",
              "[2 rows x 7 columns]"
            ]
          },
          "metadata": {
            "tags": []
          },
          "execution_count": 14
        }
      ]
    },
    {
      "cell_type": "markdown",
      "metadata": {
        "id": "MD5Ia6dvjGEq"
      },
      "source": [
        "Rankings points on the fifa ranking dataset started from 21/09/2011, we will threfore use data from 21/09/2011 onwards for this analysis"
      ]
    },
    {
      "cell_type": "code",
      "metadata": {
        "id": "LODEx8OPjFd7",
        "outputId": "e9355a23-d47b-4458-ca95-ed1e5774b5fc",
        "colab": {
          "base_uri": "https://localhost:8080/"
        }
      },
      "source": [
        "ranking = ranking[ranking['rank_date'] > '2011-08-24']\n",
        "results = results[results['date'] > '2011-08-24']\n",
        "print(\"Shape of ranking: \", ranking.shape)\n",
        "print(\"Shape of results: \", results.shape)"
      ],
      "execution_count": null,
      "outputs": [
        {
          "output_type": "stream",
          "text": [
            "Shape of ranking:  (17208, 7)\n",
            "Shape of results:  (7558, 9)\n"
          ],
          "name": "stdout"
        }
      ]
    },
    {
      "cell_type": "code",
      "metadata": {
        "id": "mPU-I_ent_vc",
        "outputId": "b54ad862-a2f1-489e-ed81-7f8b9723657b",
        "colab": {
          "base_uri": "https://localhost:8080/",
          "height": 309
        }
      },
      "source": [
        "#Now we change the columns containing dates to year\n",
        "import datetime\n",
        "\n",
        "ranking['year'] = ranking['rank_date'].dt.year\n",
        "ranking.tail()\n"
      ],
      "execution_count": null,
      "outputs": [
        {
          "output_type": "execute_result",
          "data": {
            "text/html": [
              "<div>\n",
              "<style scoped>\n",
              "    .dataframe tbody tr th:only-of-type {\n",
              "        vertical-align: middle;\n",
              "    }\n",
              "\n",
              "    .dataframe tbody tr th {\n",
              "        vertical-align: top;\n",
              "    }\n",
              "\n",
              "    .dataframe thead th {\n",
              "        text-align: right;\n",
              "    }\n",
              "</style>\n",
              "<table border=\"1\" class=\"dataframe\">\n",
              "  <thead>\n",
              "    <tr style=\"text-align: right;\">\n",
              "      <th></th>\n",
              "      <th>rank</th>\n",
              "      <th>country_full</th>\n",
              "      <th>cur_year_avg_weighted</th>\n",
              "      <th>two_year_ago_weighted</th>\n",
              "      <th>three_year_ago_weighted</th>\n",
              "      <th>rank_date</th>\n",
              "      <th>weighted_points</th>\n",
              "      <th>year</th>\n",
              "    </tr>\n",
              "  </thead>\n",
              "  <tbody>\n",
              "    <tr>\n",
              "      <th>57788</th>\n",
              "      <td>206</td>\n",
              "      <td>Anguilla</td>\n",
              "      <td>0.0</td>\n",
              "      <td>0.0</td>\n",
              "      <td>0.0</td>\n",
              "      <td>2018-06-07</td>\n",
              "      <td>0.0</td>\n",
              "      <td>2018</td>\n",
              "    </tr>\n",
              "    <tr>\n",
              "      <th>57789</th>\n",
              "      <td>206</td>\n",
              "      <td>Bahamas</td>\n",
              "      <td>0.0</td>\n",
              "      <td>0.0</td>\n",
              "      <td>0.0</td>\n",
              "      <td>2018-06-07</td>\n",
              "      <td>0.0</td>\n",
              "      <td>2018</td>\n",
              "    </tr>\n",
              "    <tr>\n",
              "      <th>57790</th>\n",
              "      <td>206</td>\n",
              "      <td>Eritrea</td>\n",
              "      <td>0.0</td>\n",
              "      <td>0.0</td>\n",
              "      <td>0.0</td>\n",
              "      <td>2018-06-07</td>\n",
              "      <td>0.0</td>\n",
              "      <td>2018</td>\n",
              "    </tr>\n",
              "    <tr>\n",
              "      <th>57791</th>\n",
              "      <td>206</td>\n",
              "      <td>Somalia</td>\n",
              "      <td>0.0</td>\n",
              "      <td>0.0</td>\n",
              "      <td>0.0</td>\n",
              "      <td>2018-06-07</td>\n",
              "      <td>0.0</td>\n",
              "      <td>2018</td>\n",
              "    </tr>\n",
              "    <tr>\n",
              "      <th>57792</th>\n",
              "      <td>206</td>\n",
              "      <td>Tonga</td>\n",
              "      <td>0.0</td>\n",
              "      <td>0.0</td>\n",
              "      <td>0.0</td>\n",
              "      <td>2018-06-07</td>\n",
              "      <td>0.0</td>\n",
              "      <td>2018</td>\n",
              "    </tr>\n",
              "  </tbody>\n",
              "</table>\n",
              "</div>"
            ],
            "text/plain": [
              "       rank country_full  ...  weighted_points  year\n",
              "57788   206     Anguilla  ...              0.0  2018\n",
              "57789   206      Bahamas  ...              0.0  2018\n",
              "57790   206      Eritrea  ...              0.0  2018\n",
              "57791   206      Somalia  ...              0.0  2018\n",
              "57792   206        Tonga  ...              0.0  2018\n",
              "\n",
              "[5 rows x 8 columns]"
            ]
          },
          "metadata": {
            "tags": []
          },
          "execution_count": 16
        }
      ]
    },
    {
      "cell_type": "code",
      "metadata": {
        "id": "Xk3_Dgh_u3Uy",
        "outputId": "ca2e6e65-21db-4846-d704-abbb1afc9746",
        "colab": {
          "base_uri": "https://localhost:8080/",
          "height": 289
        }
      },
      "source": [
        "results['year'] = results['date'].dt.year\n",
        "results.head()"
      ],
      "execution_count": null,
      "outputs": [
        {
          "output_type": "execute_result",
          "data": {
            "text/html": [
              "<div>\n",
              "<style scoped>\n",
              "    .dataframe tbody tr th:only-of-type {\n",
              "        vertical-align: middle;\n",
              "    }\n",
              "\n",
              "    .dataframe tbody tr th {\n",
              "        vertical-align: top;\n",
              "    }\n",
              "\n",
              "    .dataframe thead th {\n",
              "        text-align: right;\n",
              "    }\n",
              "</style>\n",
              "<table border=\"1\" class=\"dataframe\">\n",
              "  <thead>\n",
              "    <tr style=\"text-align: right;\">\n",
              "      <th></th>\n",
              "      <th>date</th>\n",
              "      <th>home_team</th>\n",
              "      <th>away_team</th>\n",
              "      <th>home_score</th>\n",
              "      <th>away_score</th>\n",
              "      <th>tournament</th>\n",
              "      <th>city</th>\n",
              "      <th>country</th>\n",
              "      <th>neutral</th>\n",
              "      <th>year</th>\n",
              "    </tr>\n",
              "  </thead>\n",
              "  <tbody>\n",
              "    <tr>\n",
              "      <th>33281</th>\n",
              "      <td>2011-08-25</td>\n",
              "      <td>United Arab Emirates</td>\n",
              "      <td>Qatar</td>\n",
              "      <td>3</td>\n",
              "      <td>1</td>\n",
              "      <td>Friendly</td>\n",
              "      <td>al-Ain</td>\n",
              "      <td>United Arab Emirates</td>\n",
              "      <td>False</td>\n",
              "      <td>2011</td>\n",
              "    </tr>\n",
              "    <tr>\n",
              "      <th>33282</th>\n",
              "      <td>2011-08-26</td>\n",
              "      <td>Bahrain</td>\n",
              "      <td>Sudan</td>\n",
              "      <td>1</td>\n",
              "      <td>0</td>\n",
              "      <td>Friendly</td>\n",
              "      <td>Riffa</td>\n",
              "      <td>Bahrain</td>\n",
              "      <td>False</td>\n",
              "      <td>2011</td>\n",
              "    </tr>\n",
              "    <tr>\n",
              "      <th>33283</th>\n",
              "      <td>2011-08-27</td>\n",
              "      <td>Angola</td>\n",
              "      <td>DR Congo</td>\n",
              "      <td>1</td>\n",
              "      <td>2</td>\n",
              "      <td>Friendly</td>\n",
              "      <td>Dundo</td>\n",
              "      <td>Angola</td>\n",
              "      <td>False</td>\n",
              "      <td>2011</td>\n",
              "    </tr>\n",
              "    <tr>\n",
              "      <th>33284</th>\n",
              "      <td>2011-08-27</td>\n",
              "      <td>Fiji</td>\n",
              "      <td>Tahiti</td>\n",
              "      <td>3</td>\n",
              "      <td>0</td>\n",
              "      <td>Pacific Games</td>\n",
              "      <td>Boulari</td>\n",
              "      <td>New Caledonia</td>\n",
              "      <td>True</td>\n",
              "      <td>2011</td>\n",
              "    </tr>\n",
              "    <tr>\n",
              "      <th>33285</th>\n",
              "      <td>2011-08-27</td>\n",
              "      <td>Jordan</td>\n",
              "      <td>Indonesia</td>\n",
              "      <td>1</td>\n",
              "      <td>0</td>\n",
              "      <td>Friendly</td>\n",
              "      <td>Amman</td>\n",
              "      <td>Jordan</td>\n",
              "      <td>False</td>\n",
              "      <td>2011</td>\n",
              "    </tr>\n",
              "  </tbody>\n",
              "</table>\n",
              "</div>"
            ],
            "text/plain": [
              "            date             home_team  ... neutral  year\n",
              "33281 2011-08-25  United Arab Emirates  ...   False  2011\n",
              "33282 2011-08-26               Bahrain  ...   False  2011\n",
              "33283 2011-08-27                Angola  ...   False  2011\n",
              "33284 2011-08-27                  Fiji  ...    True  2011\n",
              "33285 2011-08-27                Jordan  ...   False  2011\n",
              "\n",
              "[5 rows x 10 columns]"
            ]
          },
          "metadata": {
            "tags": []
          },
          "execution_count": 17
        }
      ]
    },
    {
      "cell_type": "markdown",
      "metadata": {
        "id": "n4-tacGjvGvT"
      },
      "source": [
        "The rankings_df runs from the year 2011 to the year 2018 whereas the results_df runs to the year 2019. For data balance we will remove data for the year 2019 in the results_df"
      ]
    },
    {
      "cell_type": "code",
      "metadata": {
        "id": "Lxx8GuXDvGE_",
        "outputId": "36ac81a2-2f7c-428a-c44c-7c98013ae1c8",
        "colab": {
          "base_uri": "https://localhost:8080/",
          "height": 289
        }
      },
      "source": [
        "#Standardizing the dataset\n",
        "results_df2 = results[results['year'] < 2019]\n",
        "results_df2.tail()"
      ],
      "execution_count": null,
      "outputs": [
        {
          "output_type": "execute_result",
          "data": {
            "text/html": [
              "<div>\n",
              "<style scoped>\n",
              "    .dataframe tbody tr th:only-of-type {\n",
              "        vertical-align: middle;\n",
              "    }\n",
              "\n",
              "    .dataframe tbody tr th {\n",
              "        vertical-align: top;\n",
              "    }\n",
              "\n",
              "    .dataframe thead th {\n",
              "        text-align: right;\n",
              "    }\n",
              "</style>\n",
              "<table border=\"1\" class=\"dataframe\">\n",
              "  <thead>\n",
              "    <tr style=\"text-align: right;\">\n",
              "      <th></th>\n",
              "      <th>date</th>\n",
              "      <th>home_team</th>\n",
              "      <th>away_team</th>\n",
              "      <th>home_score</th>\n",
              "      <th>away_score</th>\n",
              "      <th>tournament</th>\n",
              "      <th>city</th>\n",
              "      <th>country</th>\n",
              "      <th>neutral</th>\n",
              "      <th>year</th>\n",
              "    </tr>\n",
              "  </thead>\n",
              "  <tbody>\n",
              "    <tr>\n",
              "      <th>40346</th>\n",
              "      <td>2018-12-30</td>\n",
              "      <td>Yemen</td>\n",
              "      <td>Syria</td>\n",
              "      <td>0</td>\n",
              "      <td>1</td>\n",
              "      <td>Friendly</td>\n",
              "      <td>Abu Dhabi</td>\n",
              "      <td>United Arab Emirates</td>\n",
              "      <td>True</td>\n",
              "      <td>2018</td>\n",
              "    </tr>\n",
              "    <tr>\n",
              "      <th>40347</th>\n",
              "      <td>2018-12-31</td>\n",
              "      <td>South Korea</td>\n",
              "      <td>Saudi Arabia</td>\n",
              "      <td>0</td>\n",
              "      <td>0</td>\n",
              "      <td>Friendly</td>\n",
              "      <td>Abu Dhabi</td>\n",
              "      <td>United Arab Emirates</td>\n",
              "      <td>True</td>\n",
              "      <td>2018</td>\n",
              "    </tr>\n",
              "    <tr>\n",
              "      <th>40348</th>\n",
              "      <td>2018-12-31</td>\n",
              "      <td>Kyrgyzstan</td>\n",
              "      <td>Palestine</td>\n",
              "      <td>2</td>\n",
              "      <td>1</td>\n",
              "      <td>Friendly</td>\n",
              "      <td>Doha</td>\n",
              "      <td>Qatar</td>\n",
              "      <td>True</td>\n",
              "      <td>2018</td>\n",
              "    </tr>\n",
              "    <tr>\n",
              "      <th>40349</th>\n",
              "      <td>2018-12-31</td>\n",
              "      <td>Philippines</td>\n",
              "      <td>Vietnam</td>\n",
              "      <td>2</td>\n",
              "      <td>4</td>\n",
              "      <td>Friendly</td>\n",
              "      <td>Doha</td>\n",
              "      <td>Qatar</td>\n",
              "      <td>True</td>\n",
              "      <td>2018</td>\n",
              "    </tr>\n",
              "    <tr>\n",
              "      <th>40350</th>\n",
              "      <td>2018-12-31</td>\n",
              "      <td>Qatar</td>\n",
              "      <td>Iran</td>\n",
              "      <td>1</td>\n",
              "      <td>2</td>\n",
              "      <td>Friendly</td>\n",
              "      <td>Doha</td>\n",
              "      <td>Qatar</td>\n",
              "      <td>False</td>\n",
              "      <td>2018</td>\n",
              "    </tr>\n",
              "  </tbody>\n",
              "</table>\n",
              "</div>"
            ],
            "text/plain": [
              "            date    home_team  ... neutral  year\n",
              "40346 2018-12-30        Yemen  ...    True  2018\n",
              "40347 2018-12-31  South Korea  ...    True  2018\n",
              "40348 2018-12-31   Kyrgyzstan  ...    True  2018\n",
              "40349 2018-12-31  Philippines  ...    True  2018\n",
              "40350 2018-12-31        Qatar  ...   False  2018\n",
              "\n",
              "[5 rows x 10 columns]"
            ]
          },
          "metadata": {
            "tags": []
          },
          "execution_count": 18
        }
      ]
    },
    {
      "cell_type": "code",
      "metadata": {
        "id": "1l5C_RBbd7CS",
        "outputId": "bd84b85b-4250-4c1f-a506-3afb91b3567d",
        "colab": {
          "base_uri": "https://localhost:8080/",
          "height": 204
        }
      },
      "source": [
        "#Dropping unnecessary columns from both datasets\n",
        "\n",
        "ranking_df2= ranking.drop(columns=['cur_year_avg_weighted','two_year_ago_weighted','three_year_ago_weighted'])\n",
        "ranking_df2.head()"
      ],
      "execution_count": null,
      "outputs": [
        {
          "output_type": "execute_result",
          "data": {
            "text/html": [
              "<div>\n",
              "<style scoped>\n",
              "    .dataframe tbody tr th:only-of-type {\n",
              "        vertical-align: middle;\n",
              "    }\n",
              "\n",
              "    .dataframe tbody tr th {\n",
              "        vertical-align: top;\n",
              "    }\n",
              "\n",
              "    .dataframe thead th {\n",
              "        text-align: right;\n",
              "    }\n",
              "</style>\n",
              "<table border=\"1\" class=\"dataframe\">\n",
              "  <thead>\n",
              "    <tr style=\"text-align: right;\">\n",
              "      <th></th>\n",
              "      <th>rank</th>\n",
              "      <th>country_full</th>\n",
              "      <th>rank_date</th>\n",
              "      <th>weighted_points</th>\n",
              "      <th>year</th>\n",
              "    </tr>\n",
              "  </thead>\n",
              "  <tbody>\n",
              "    <tr>\n",
              "      <th>40585</th>\n",
              "      <td>1</td>\n",
              "      <td>Spain</td>\n",
              "      <td>2011-09-21</td>\n",
              "      <td>1101.27</td>\n",
              "      <td>2011</td>\n",
              "    </tr>\n",
              "    <tr>\n",
              "      <th>40586</th>\n",
              "      <td>2</td>\n",
              "      <td>Netherlands</td>\n",
              "      <td>2011-09-21</td>\n",
              "      <td>1089.24</td>\n",
              "      <td>2011</td>\n",
              "    </tr>\n",
              "    <tr>\n",
              "      <th>40587</th>\n",
              "      <td>3</td>\n",
              "      <td>Germany</td>\n",
              "      <td>2011-09-21</td>\n",
              "      <td>829.26</td>\n",
              "      <td>2011</td>\n",
              "    </tr>\n",
              "    <tr>\n",
              "      <th>40588</th>\n",
              "      <td>4</td>\n",
              "      <td>Uruguay</td>\n",
              "      <td>2011-09-21</td>\n",
              "      <td>791.79</td>\n",
              "      <td>2011</td>\n",
              "    </tr>\n",
              "    <tr>\n",
              "      <th>40589</th>\n",
              "      <td>5</td>\n",
              "      <td>Portugal</td>\n",
              "      <td>2011-09-21</td>\n",
              "      <td>862.16</td>\n",
              "      <td>2011</td>\n",
              "    </tr>\n",
              "  </tbody>\n",
              "</table>\n",
              "</div>"
            ],
            "text/plain": [
              "       rank country_full  rank_date  weighted_points  year\n",
              "40585     1        Spain 2011-09-21          1101.27  2011\n",
              "40586     2  Netherlands 2011-09-21          1089.24  2011\n",
              "40587     3      Germany 2011-09-21           829.26  2011\n",
              "40588     4      Uruguay 2011-09-21           791.79  2011\n",
              "40589     5     Portugal 2011-09-21           862.16  2011"
            ]
          },
          "metadata": {
            "tags": []
          },
          "execution_count": 19
        }
      ]
    },
    {
      "cell_type": "code",
      "metadata": {
        "id": "bkZNUxshikSi",
        "outputId": "01fd28b8-b9d7-4d6d-f309-73dc3b23728d",
        "colab": {
          "base_uri": "https://localhost:8080/",
          "height": 142
        }
      },
      "source": [
        "#Dropping columns for results dataset\n",
        "\n",
        "results_df2 = results_df2.drop(columns=['date','city','neutral'])\n",
        "results_df2.tail(3)"
      ],
      "execution_count": null,
      "outputs": [
        {
          "output_type": "execute_result",
          "data": {
            "text/html": [
              "<div>\n",
              "<style scoped>\n",
              "    .dataframe tbody tr th:only-of-type {\n",
              "        vertical-align: middle;\n",
              "    }\n",
              "\n",
              "    .dataframe tbody tr th {\n",
              "        vertical-align: top;\n",
              "    }\n",
              "\n",
              "    .dataframe thead th {\n",
              "        text-align: right;\n",
              "    }\n",
              "</style>\n",
              "<table border=\"1\" class=\"dataframe\">\n",
              "  <thead>\n",
              "    <tr style=\"text-align: right;\">\n",
              "      <th></th>\n",
              "      <th>home_team</th>\n",
              "      <th>away_team</th>\n",
              "      <th>home_score</th>\n",
              "      <th>away_score</th>\n",
              "      <th>tournament</th>\n",
              "      <th>country</th>\n",
              "      <th>year</th>\n",
              "    </tr>\n",
              "  </thead>\n",
              "  <tbody>\n",
              "    <tr>\n",
              "      <th>40348</th>\n",
              "      <td>Kyrgyzstan</td>\n",
              "      <td>Palestine</td>\n",
              "      <td>2</td>\n",
              "      <td>1</td>\n",
              "      <td>Friendly</td>\n",
              "      <td>Qatar</td>\n",
              "      <td>2018</td>\n",
              "    </tr>\n",
              "    <tr>\n",
              "      <th>40349</th>\n",
              "      <td>Philippines</td>\n",
              "      <td>Vietnam</td>\n",
              "      <td>2</td>\n",
              "      <td>4</td>\n",
              "      <td>Friendly</td>\n",
              "      <td>Qatar</td>\n",
              "      <td>2018</td>\n",
              "    </tr>\n",
              "    <tr>\n",
              "      <th>40350</th>\n",
              "      <td>Qatar</td>\n",
              "      <td>Iran</td>\n",
              "      <td>1</td>\n",
              "      <td>2</td>\n",
              "      <td>Friendly</td>\n",
              "      <td>Qatar</td>\n",
              "      <td>2018</td>\n",
              "    </tr>\n",
              "  </tbody>\n",
              "</table>\n",
              "</div>"
            ],
            "text/plain": [
              "         home_team  away_team  home_score  away_score tournament country  year\n",
              "40348   Kyrgyzstan  Palestine           2           1   Friendly   Qatar  2018\n",
              "40349  Philippines    Vietnam           2           4   Friendly   Qatar  2018\n",
              "40350        Qatar       Iran           1           2   Friendly   Qatar  2018"
            ]
          },
          "metadata": {
            "tags": []
          },
          "execution_count": 20
        }
      ]
    },
    {
      "cell_type": "code",
      "metadata": {
        "id": "nustapOtj_Ei",
        "outputId": "1fcfedc5-46eb-4292-803a-fb86c9215b9f",
        "colab": {
          "base_uri": "https://localhost:8080/",
          "height": 394
        }
      },
      "source": [
        "#Joining both tables to form one dataset\n",
        "\n",
        "combo = results_df2.merge(ranking_df2, left_on=['home_team', 'year'], right_on=['country_full', 'year'], how='inner')\n",
        "combo = combo.merge(ranking_df2, left_on=['away_team', 'year'], right_on=['country_full', 'year'], how='inner')\n",
        "combo.drop(['country', 'year', 'country_full_x', 'country_full_y'], axis=1, inplace=True)\n",
        "combo.head()"
      ],
      "execution_count": null,
      "outputs": [
        {
          "output_type": "execute_result",
          "data": {
            "text/html": [
              "<div>\n",
              "<style scoped>\n",
              "    .dataframe tbody tr th:only-of-type {\n",
              "        vertical-align: middle;\n",
              "    }\n",
              "\n",
              "    .dataframe tbody tr th {\n",
              "        vertical-align: top;\n",
              "    }\n",
              "\n",
              "    .dataframe thead th {\n",
              "        text-align: right;\n",
              "    }\n",
              "</style>\n",
              "<table border=\"1\" class=\"dataframe\">\n",
              "  <thead>\n",
              "    <tr style=\"text-align: right;\">\n",
              "      <th></th>\n",
              "      <th>home_team</th>\n",
              "      <th>away_team</th>\n",
              "      <th>home_score</th>\n",
              "      <th>away_score</th>\n",
              "      <th>tournament</th>\n",
              "      <th>rank_x</th>\n",
              "      <th>rank_date_x</th>\n",
              "      <th>weighted_points_x</th>\n",
              "      <th>rank_y</th>\n",
              "      <th>rank_date_y</th>\n",
              "      <th>weighted_points_y</th>\n",
              "    </tr>\n",
              "  </thead>\n",
              "  <tbody>\n",
              "    <tr>\n",
              "      <th>0</th>\n",
              "      <td>United Arab Emirates</td>\n",
              "      <td>Qatar</td>\n",
              "      <td>3</td>\n",
              "      <td>1</td>\n",
              "      <td>Friendly</td>\n",
              "      <td>112</td>\n",
              "      <td>2011-09-21</td>\n",
              "      <td>168.98</td>\n",
              "      <td>100</td>\n",
              "      <td>2011-09-21</td>\n",
              "      <td>291.93</td>\n",
              "    </tr>\n",
              "    <tr>\n",
              "      <th>1</th>\n",
              "      <td>United Arab Emirates</td>\n",
              "      <td>Qatar</td>\n",
              "      <td>3</td>\n",
              "      <td>1</td>\n",
              "      <td>Friendly</td>\n",
              "      <td>112</td>\n",
              "      <td>2011-09-21</td>\n",
              "      <td>168.98</td>\n",
              "      <td>92</td>\n",
              "      <td>2011-10-19</td>\n",
              "      <td>305.53</td>\n",
              "    </tr>\n",
              "    <tr>\n",
              "      <th>2</th>\n",
              "      <td>United Arab Emirates</td>\n",
              "      <td>Qatar</td>\n",
              "      <td>3</td>\n",
              "      <td>1</td>\n",
              "      <td>Friendly</td>\n",
              "      <td>112</td>\n",
              "      <td>2011-09-21</td>\n",
              "      <td>168.98</td>\n",
              "      <td>95</td>\n",
              "      <td>2011-11-23</td>\n",
              "      <td>333.73</td>\n",
              "    </tr>\n",
              "    <tr>\n",
              "      <th>3</th>\n",
              "      <td>United Arab Emirates</td>\n",
              "      <td>Qatar</td>\n",
              "      <td>3</td>\n",
              "      <td>1</td>\n",
              "      <td>Friendly</td>\n",
              "      <td>112</td>\n",
              "      <td>2011-09-21</td>\n",
              "      <td>168.98</td>\n",
              "      <td>93</td>\n",
              "      <td>2011-12-21</td>\n",
              "      <td>314.79</td>\n",
              "    </tr>\n",
              "    <tr>\n",
              "      <th>4</th>\n",
              "      <td>United Arab Emirates</td>\n",
              "      <td>Qatar</td>\n",
              "      <td>3</td>\n",
              "      <td>1</td>\n",
              "      <td>Friendly</td>\n",
              "      <td>113</td>\n",
              "      <td>2011-10-19</td>\n",
              "      <td>169.00</td>\n",
              "      <td>100</td>\n",
              "      <td>2011-09-21</td>\n",
              "      <td>291.93</td>\n",
              "    </tr>\n",
              "  </tbody>\n",
              "</table>\n",
              "</div>"
            ],
            "text/plain": [
              "              home_team away_team  ...  rank_date_y  weighted_points_y\n",
              "0  United Arab Emirates     Qatar  ...   2011-09-21             291.93\n",
              "1  United Arab Emirates     Qatar  ...   2011-10-19             305.53\n",
              "2  United Arab Emirates     Qatar  ...   2011-11-23             333.73\n",
              "3  United Arab Emirates     Qatar  ...   2011-12-21             314.79\n",
              "4  United Arab Emirates     Qatar  ...   2011-09-21             291.93\n",
              "\n",
              "[5 rows x 11 columns]"
            ]
          },
          "metadata": {
            "tags": []
          },
          "execution_count": 21
        }
      ]
    },
    {
      "cell_type": "code",
      "metadata": {
        "id": "ZeLseQKW1iKc",
        "outputId": "445a29fe-56d8-4eac-a879-22e1624e9825",
        "colab": {
          "base_uri": "https://localhost:8080/",
          "height": 394
        }
      },
      "source": [
        "#Changing column names\n",
        "combo.rename(columns={'rank_x':'home_team_rank',\n",
        "                     'rank_y':'away_team_rank',\n",
        "                     'weighted_points_x':'home_team_weighted_points',\n",
        "                     'weighted_points_y':'away_team_weighted_points'}, \n",
        "                 inplace=True)\n",
        " \n",
        "combo.head()"
      ],
      "execution_count": null,
      "outputs": [
        {
          "output_type": "execute_result",
          "data": {
            "text/html": [
              "<div>\n",
              "<style scoped>\n",
              "    .dataframe tbody tr th:only-of-type {\n",
              "        vertical-align: middle;\n",
              "    }\n",
              "\n",
              "    .dataframe tbody tr th {\n",
              "        vertical-align: top;\n",
              "    }\n",
              "\n",
              "    .dataframe thead th {\n",
              "        text-align: right;\n",
              "    }\n",
              "</style>\n",
              "<table border=\"1\" class=\"dataframe\">\n",
              "  <thead>\n",
              "    <tr style=\"text-align: right;\">\n",
              "      <th></th>\n",
              "      <th>home_team</th>\n",
              "      <th>away_team</th>\n",
              "      <th>home_score</th>\n",
              "      <th>away_score</th>\n",
              "      <th>tournament</th>\n",
              "      <th>home_team_rank</th>\n",
              "      <th>rank_date_x</th>\n",
              "      <th>home_team_weighted_points</th>\n",
              "      <th>away_team_rank</th>\n",
              "      <th>rank_date_y</th>\n",
              "      <th>away_team_weighted_points</th>\n",
              "    </tr>\n",
              "  </thead>\n",
              "  <tbody>\n",
              "    <tr>\n",
              "      <th>0</th>\n",
              "      <td>United Arab Emirates</td>\n",
              "      <td>Qatar</td>\n",
              "      <td>3</td>\n",
              "      <td>1</td>\n",
              "      <td>Friendly</td>\n",
              "      <td>112</td>\n",
              "      <td>2011-09-21</td>\n",
              "      <td>168.98</td>\n",
              "      <td>100</td>\n",
              "      <td>2011-09-21</td>\n",
              "      <td>291.93</td>\n",
              "    </tr>\n",
              "    <tr>\n",
              "      <th>1</th>\n",
              "      <td>United Arab Emirates</td>\n",
              "      <td>Qatar</td>\n",
              "      <td>3</td>\n",
              "      <td>1</td>\n",
              "      <td>Friendly</td>\n",
              "      <td>112</td>\n",
              "      <td>2011-09-21</td>\n",
              "      <td>168.98</td>\n",
              "      <td>92</td>\n",
              "      <td>2011-10-19</td>\n",
              "      <td>305.53</td>\n",
              "    </tr>\n",
              "    <tr>\n",
              "      <th>2</th>\n",
              "      <td>United Arab Emirates</td>\n",
              "      <td>Qatar</td>\n",
              "      <td>3</td>\n",
              "      <td>1</td>\n",
              "      <td>Friendly</td>\n",
              "      <td>112</td>\n",
              "      <td>2011-09-21</td>\n",
              "      <td>168.98</td>\n",
              "      <td>95</td>\n",
              "      <td>2011-11-23</td>\n",
              "      <td>333.73</td>\n",
              "    </tr>\n",
              "    <tr>\n",
              "      <th>3</th>\n",
              "      <td>United Arab Emirates</td>\n",
              "      <td>Qatar</td>\n",
              "      <td>3</td>\n",
              "      <td>1</td>\n",
              "      <td>Friendly</td>\n",
              "      <td>112</td>\n",
              "      <td>2011-09-21</td>\n",
              "      <td>168.98</td>\n",
              "      <td>93</td>\n",
              "      <td>2011-12-21</td>\n",
              "      <td>314.79</td>\n",
              "    </tr>\n",
              "    <tr>\n",
              "      <th>4</th>\n",
              "      <td>United Arab Emirates</td>\n",
              "      <td>Qatar</td>\n",
              "      <td>3</td>\n",
              "      <td>1</td>\n",
              "      <td>Friendly</td>\n",
              "      <td>113</td>\n",
              "      <td>2011-10-19</td>\n",
              "      <td>169.00</td>\n",
              "      <td>100</td>\n",
              "      <td>2011-09-21</td>\n",
              "      <td>291.93</td>\n",
              "    </tr>\n",
              "  </tbody>\n",
              "</table>\n",
              "</div>"
            ],
            "text/plain": [
              "              home_team away_team  ...  rank_date_y  away_team_weighted_points\n",
              "0  United Arab Emirates     Qatar  ...   2011-09-21                     291.93\n",
              "1  United Arab Emirates     Qatar  ...   2011-10-19                     305.53\n",
              "2  United Arab Emirates     Qatar  ...   2011-11-23                     333.73\n",
              "3  United Arab Emirates     Qatar  ...   2011-12-21                     314.79\n",
              "4  United Arab Emirates     Qatar  ...   2011-09-21                     291.93\n",
              "\n",
              "[5 rows x 11 columns]"
            ]
          },
          "metadata": {
            "tags": []
          },
          "execution_count": 22
        }
      ]
    },
    {
      "cell_type": "markdown",
      "metadata": {
        "id": "jwkU7tm7EhM_"
      },
      "source": [
        "Our merged dataset has no null values and the datatypes are also appropriate hence no more data cleaning required, we therefore move to EDA"
      ]
    },
    {
      "cell_type": "markdown",
      "metadata": {
        "id": "xLu__sKuEBsX"
      },
      "source": [
        "## 5. Exploratory Data Analysis"
      ]
    },
    {
      "cell_type": "code",
      "metadata": {
        "id": "GxMovbpNEMSS",
        "outputId": "060e5314-3a8b-4fc3-85f4-8328e931575b",
        "colab": {
          "base_uri": "https://localhost:8080/",
          "height": 317
        }
      },
      "source": [
        "combo.describe()"
      ],
      "execution_count": null,
      "outputs": [
        {
          "output_type": "execute_result",
          "data": {
            "text/html": [
              "<div>\n",
              "<style scoped>\n",
              "    .dataframe tbody tr th:only-of-type {\n",
              "        vertical-align: middle;\n",
              "    }\n",
              "\n",
              "    .dataframe tbody tr th {\n",
              "        vertical-align: top;\n",
              "    }\n",
              "\n",
              "    .dataframe thead th {\n",
              "        text-align: right;\n",
              "    }\n",
              "</style>\n",
              "<table border=\"1\" class=\"dataframe\">\n",
              "  <thead>\n",
              "    <tr style=\"text-align: right;\">\n",
              "      <th></th>\n",
              "      <th>home_score</th>\n",
              "      <th>away_score</th>\n",
              "      <th>home_team_rank</th>\n",
              "      <th>home_team_weighted_points</th>\n",
              "      <th>away_team_rank</th>\n",
              "      <th>away_team_weighted_points</th>\n",
              "    </tr>\n",
              "  </thead>\n",
              "  <tbody>\n",
              "    <tr>\n",
              "      <th>count</th>\n",
              "      <td>690264.000000</td>\n",
              "      <td>690264.000000</td>\n",
              "      <td>690264.000000</td>\n",
              "      <td>690264.000000</td>\n",
              "      <td>690264.000000</td>\n",
              "      <td>690264.000000</td>\n",
              "    </tr>\n",
              "    <tr>\n",
              "      <th>mean</th>\n",
              "      <td>1.530968</td>\n",
              "      <td>1.049703</td>\n",
              "      <td>81.012918</td>\n",
              "      <td>398.840025</td>\n",
              "      <td>84.754694</td>\n",
              "      <td>379.836261</td>\n",
              "    </tr>\n",
              "    <tr>\n",
              "      <th>std</th>\n",
              "      <td>1.494180</td>\n",
              "      <td>1.224868</td>\n",
              "      <td>53.825916</td>\n",
              "      <td>270.077590</td>\n",
              "      <td>54.184892</td>\n",
              "      <td>263.029589</td>\n",
              "    </tr>\n",
              "    <tr>\n",
              "      <th>min</th>\n",
              "      <td>0.000000</td>\n",
              "      <td>0.000000</td>\n",
              "      <td>1.000000</td>\n",
              "      <td>0.000000</td>\n",
              "      <td>1.000000</td>\n",
              "      <td>0.000000</td>\n",
              "    </tr>\n",
              "    <tr>\n",
              "      <th>25%</th>\n",
              "      <td>0.000000</td>\n",
              "      <td>0.000000</td>\n",
              "      <td>35.000000</td>\n",
              "      <td>194.370000</td>\n",
              "      <td>39.000000</td>\n",
              "      <td>180.270000</td>\n",
              "    </tr>\n",
              "    <tr>\n",
              "      <th>50%</th>\n",
              "      <td>1.000000</td>\n",
              "      <td>1.000000</td>\n",
              "      <td>75.000000</td>\n",
              "      <td>337.630000</td>\n",
              "      <td>80.000000</td>\n",
              "      <td>319.800000</td>\n",
              "    </tr>\n",
              "    <tr>\n",
              "      <th>75%</th>\n",
              "      <td>2.000000</td>\n",
              "      <td>2.000000</td>\n",
              "      <td>121.000000</td>\n",
              "      <td>555.180000</td>\n",
              "      <td>125.000000</td>\n",
              "      <td>530.170000</td>\n",
              "    </tr>\n",
              "    <tr>\n",
              "      <th>max</th>\n",
              "      <td>15.000000</td>\n",
              "      <td>10.000000</td>\n",
              "      <td>209.000000</td>\n",
              "      <td>1511.500000</td>\n",
              "      <td>209.000000</td>\n",
              "      <td>1511.500000</td>\n",
              "    </tr>\n",
              "  </tbody>\n",
              "</table>\n",
              "</div>"
            ],
            "text/plain": [
              "          home_score     away_score  ...  away_team_rank  away_team_weighted_points\n",
              "count  690264.000000  690264.000000  ...   690264.000000              690264.000000\n",
              "mean        1.530968       1.049703  ...       84.754694                 379.836261\n",
              "std         1.494180       1.224868  ...       54.184892                 263.029589\n",
              "min         0.000000       0.000000  ...        1.000000                   0.000000\n",
              "25%         0.000000       0.000000  ...       39.000000                 180.270000\n",
              "50%         1.000000       1.000000  ...       80.000000                 319.800000\n",
              "75%         2.000000       2.000000  ...      125.000000                 530.170000\n",
              "max        15.000000      10.000000  ...      209.000000                1511.500000\n",
              "\n",
              "[8 rows x 6 columns]"
            ]
          },
          "metadata": {
            "tags": []
          },
          "execution_count": 23
        }
      ]
    },
    {
      "cell_type": "code",
      "metadata": {
        "id": "SaE1MqhVGcVg",
        "outputId": "a34ed82b-4ea2-46f4-9e4a-e3f8839ffd87",
        "colab": {
          "base_uri": "https://localhost:8080/",
          "height": 509
        }
      },
      "source": [
        "#Checking for data distribution\n",
        "combo.hist(bins=10, figsize=[14,6])"
      ],
      "execution_count": null,
      "outputs": [
        {
          "output_type": "execute_result",
          "data": {
            "text/plain": [
              "array([[<matplotlib.axes._subplots.AxesSubplot object at 0x7f09a85b32b0>,\n",
              "        <matplotlib.axes._subplots.AxesSubplot object at 0x7f09a85884e0>],\n",
              "       [<matplotlib.axes._subplots.AxesSubplot object at 0x7f09a853d748>,\n",
              "        <matplotlib.axes._subplots.AxesSubplot object at 0x7f09a84f29b0>],\n",
              "       [<matplotlib.axes._subplots.AxesSubplot object at 0x7f09a8525c18>,\n",
              "        <matplotlib.axes._subplots.AxesSubplot object at 0x7f09a84d8e80>]],\n",
              "      dtype=object)"
            ]
          },
          "metadata": {
            "tags": []
          },
          "execution_count": 24
        },
        {
          "output_type": "display_data",
          "data": {
            "image/png": "[encoded data removed]",
            "text/plain": [
              "<Figure size 1008x432 with 6 Axes>"
            ]
          },
          "metadata": {
            "tags": [],
            "needs_background": "light"
          }
        }
      ]
    },
    {
      "cell_type": "markdown",
      "metadata": {
        "id": "mpH0ByM3Gs0S"
      },
      "source": [
        "Our data is not normally distributed"
      ]
    },
    {
      "cell_type": "code",
      "metadata": {
        "id": "_7XQDKGAMR0R",
        "outputId": "4ffdd8b3-dc85-49a6-9ae2-fca53e38f817",
        "colab": {
          "base_uri": "https://localhost:8080/",
          "height": 282
        }
      },
      "source": [
        "#Checking tournament type value counts\n",
        "combo.tournament.value_counts().sort_values().head(10).plot(kind = 'barh')\n",
        "#The tournament type ABCS recorded the highest number of matches"
      ],
      "execution_count": null,
      "outputs": [
        {
          "output_type": "execute_result",
          "data": {
            "text/plain": [
              "<matplotlib.axes._subplots.AxesSubplot at 0x7f09a82cef98>"
            ]
          },
          "metadata": {
            "tags": []
          },
          "execution_count": 25
        },
        {
          "output_type": "display_data",
          "data": {
            "image/png": "[encoded data removed]",
            "text/plain": [
              "<Figure size 432x288 with 1 Axes>"
            ]
          },
          "metadata": {
            "tags": [],
            "needs_background": "light"
          }
        }
      ]
    },
    {
      "cell_type": "code",
      "metadata": {
        "id": "bNicf3-THXNi",
        "outputId": "43284a82-e10d-45a6-9f6f-45397c9997f1",
        "colab": {
          "base_uri": "https://localhost:8080/",
          "height": 585
        }
      },
      "source": [
        "#Checking for feature correlation\n",
        "plt.subplots(figsize=(12,7))\n",
        "sns.heatmap(combo.corr(method='pearson'), annot=True)"
      ],
      "execution_count": null,
      "outputs": [
        {
          "output_type": "execute_result",
          "data": {
            "text/plain": [
              "<matplotlib.axes._subplots.AxesSubplot at 0x7f09a7e0d470>"
            ]
          },
          "metadata": {
            "tags": []
          },
          "execution_count": 26
        },
        {
          "output_type": "display_data",
          "data": {
            "image/png": "[encoded data removed]",
            "text/plain": [
              "<Figure size 864x504 with 2 Axes>"
            ]
          },
          "metadata": {
            "tags": [],
            "needs_background": "light"
          }
        }
      ]
    },
    {
      "cell_type": "code",
      "metadata": {
        "id": "PSGN5LD7HtNe",
        "outputId": "7ad95a15-aac5-47ae-c397-a66d67e17c68",
        "colab": {
          "base_uri": "https://localhost:8080/",
          "height": 401
        }
      },
      "source": [
        " sns.lmplot(x=\"home_team_rank\", y=\"home_team_weighted_points\", data=combo)"
      ],
      "execution_count": null,
      "outputs": [
        {
          "output_type": "execute_result",
          "data": {
            "text/plain": [
              "<seaborn.axisgrid.FacetGrid at 0x7f09a7dfbe48>"
            ]
          },
          "metadata": {
            "tags": []
          },
          "execution_count": 27
        },
        {
          "output_type": "display_data",
          "data": {
            "image/png": "[encoded data removed]",
            "text/plain": [
              "<Figure size 360x360 with 1 Axes>"
            ]
          },
          "metadata": {
            "tags": [],
            "needs_background": "light"
          }
        }
      ]
    },
    {
      "cell_type": "code",
      "metadata": {
        "id": "y1tqlOBEKAr0",
        "outputId": "173acd10-bdc4-4378-d7e6-ca1155de396b",
        "colab": {
          "base_uri": "https://localhost:8080/",
          "height": 401
        }
      },
      "source": [
        "sns.lmplot(x=\"away_team_rank\", y=\"away_team_weighted_points\", data=combo)"
      ],
      "execution_count": null,
      "outputs": [
        {
          "output_type": "execute_result",
          "data": {
            "text/plain": [
              "<seaborn.axisgrid.FacetGrid at 0x7f09a8325fd0>"
            ]
          },
          "metadata": {
            "tags": []
          },
          "execution_count": 28
        },
        {
          "output_type": "display_data",
          "data": {
            "image/png": "[encoded data removed]",
            "text/plain": [
              "<Figure size 360x360 with 1 Axes>"
            ]
          },
          "metadata": {
            "tags": [],
            "needs_background": "light"
          }
        }
      ]
    },
    {
      "cell_type": "markdown",
      "metadata": {
        "id": "58ZcwJ0pH39U"
      },
      "source": [
        "There is a strong negative correlation between rank and weighted points for teams: The teams with very high weighted points rank high and those with low weighted points rank the least, for example a team with aweighted points at 1400 ranks first and vice versa \n",
        "\n",
        "Other features show a weak correlation\n",
        "\n",
        "\n"
      ]
    },
    {
      "cell_type": "markdown",
      "metadata": {
        "id": "aPgrDv_M0kvD"
      },
      "source": [
        "## 6. Feature Engineering"
      ]
    },
    {
      "cell_type": "markdown",
      "metadata": {
        "id": "R2srNmYpDDGl"
      },
      "source": [
        "First we create a new column 'Status' that contains results on whether a match was a win, lose or draw from the home team perspective"
      ]
    },
    {
      "cell_type": "code",
      "metadata": {
        "id": "mypJyKzXAAGK",
        "outputId": "8ade5455-29c3-4616-b363-14c12a1859c1",
        "colab": {
          "base_uri": "https://localhost:8080/",
          "height": 604
        }
      },
      "source": [
        "#Creating a new column 'Status' \n",
        "def f(row):\n",
        "    if row['home_score'] == row['away_score']:\n",
        "        val = 'Draw'\n",
        "    elif row['home_score'] > row['away_score']:\n",
        "        val = 'Win'\n",
        "    else:\n",
        "        val = 'Lose'\n",
        "    return val\n",
        "\n",
        "combo['Status'] = combo.apply(f, axis=1)\n",
        "\n",
        "print(combo.info())\n",
        "combo.head(3)"
      ],
      "execution_count": null,
      "outputs": [
        {
          "output_type": "stream",
          "text": [
            "<class 'pandas.core.frame.DataFrame'>\n",
            "Int64Index: 690264 entries, 0 to 690263\n",
            "Data columns (total 12 columns):\n",
            " #   Column                     Non-Null Count   Dtype         \n",
            "---  ------                     --------------   -----         \n",
            " 0   home_team                  690264 non-null  object        \n",
            " 1   away_team                  690264 non-null  object        \n",
            " 2   home_score                 690264 non-null  int64         \n",
            " 3   away_score                 690264 non-null  int64         \n",
            " 4   tournament                 690264 non-null  object        \n",
            " 5   home_team_rank             690264 non-null  int64         \n",
            " 6   rank_date_x                690264 non-null  datetime64[ns]\n",
            " 7   home_team_weighted_points  690264 non-null  float64       \n",
            " 8   away_team_rank             690264 non-null  int64         \n",
            " 9   rank_date_y                690264 non-null  datetime64[ns]\n",
            " 10  away_team_weighted_points  690264 non-null  float64       \n",
            " 11  Status                     690264 non-null  object        \n",
            "dtypes: datetime64[ns](2), float64(2), int64(4), object(4)\n",
            "memory usage: 68.5+ MB\n",
            "None\n"
          ],
          "name": "stdout"
        },
        {
          "output_type": "execute_result",
          "data": {
            "text/html": [
              "<div>\n",
              "<style scoped>\n",
              "    .dataframe tbody tr th:only-of-type {\n",
              "        vertical-align: middle;\n",
              "    }\n",
              "\n",
              "    .dataframe tbody tr th {\n",
              "        vertical-align: top;\n",
              "    }\n",
              "\n",
              "    .dataframe thead th {\n",
              "        text-align: right;\n",
              "    }\n",
              "</style>\n",
              "<table border=\"1\" class=\"dataframe\">\n",
              "  <thead>\n",
              "    <tr style=\"text-align: right;\">\n",
              "      <th></th>\n",
              "      <th>home_team</th>\n",
              "      <th>away_team</th>\n",
              "      <th>home_score</th>\n",
              "      <th>away_score</th>\n",
              "      <th>tournament</th>\n",
              "      <th>home_team_rank</th>\n",
              "      <th>rank_date_x</th>\n",
              "      <th>home_team_weighted_points</th>\n",
              "      <th>away_team_rank</th>\n",
              "      <th>rank_date_y</th>\n",
              "      <th>away_team_weighted_points</th>\n",
              "      <th>Status</th>\n",
              "    </tr>\n",
              "  </thead>\n",
              "  <tbody>\n",
              "    <tr>\n",
              "      <th>0</th>\n",
              "      <td>United Arab Emirates</td>\n",
              "      <td>Qatar</td>\n",
              "      <td>3</td>\n",
              "      <td>1</td>\n",
              "      <td>Friendly</td>\n",
              "      <td>112</td>\n",
              "      <td>2011-09-21</td>\n",
              "      <td>168.98</td>\n",
              "      <td>100</td>\n",
              "      <td>2011-09-21</td>\n",
              "      <td>291.93</td>\n",
              "      <td>Win</td>\n",
              "    </tr>\n",
              "    <tr>\n",
              "      <th>1</th>\n",
              "      <td>United Arab Emirates</td>\n",
              "      <td>Qatar</td>\n",
              "      <td>3</td>\n",
              "      <td>1</td>\n",
              "      <td>Friendly</td>\n",
              "      <td>112</td>\n",
              "      <td>2011-09-21</td>\n",
              "      <td>168.98</td>\n",
              "      <td>92</td>\n",
              "      <td>2011-10-19</td>\n",
              "      <td>305.53</td>\n",
              "      <td>Win</td>\n",
              "    </tr>\n",
              "    <tr>\n",
              "      <th>2</th>\n",
              "      <td>United Arab Emirates</td>\n",
              "      <td>Qatar</td>\n",
              "      <td>3</td>\n",
              "      <td>1</td>\n",
              "      <td>Friendly</td>\n",
              "      <td>112</td>\n",
              "      <td>2011-09-21</td>\n",
              "      <td>168.98</td>\n",
              "      <td>95</td>\n",
              "      <td>2011-11-23</td>\n",
              "      <td>333.73</td>\n",
              "      <td>Win</td>\n",
              "    </tr>\n",
              "  </tbody>\n",
              "</table>\n",
              "</div>"
            ],
            "text/plain": [
              "              home_team away_team  ...  away_team_weighted_points  Status\n",
              "0  United Arab Emirates     Qatar  ...                     291.93     Win\n",
              "1  United Arab Emirates     Qatar  ...                     305.53     Win\n",
              "2  United Arab Emirates     Qatar  ...                     333.73     Win\n",
              "\n",
              "[3 rows x 12 columns]"
            ]
          },
          "metadata": {
            "tags": []
          },
          "execution_count": 29
        }
      ]
    },
    {
      "cell_type": "markdown",
      "metadata": {
        "id": "Ysb722RiDb9P"
      },
      "source": [
        "Then we change the categorical columns into binary"
      ]
    },
    {
      "cell_type": "code",
      "metadata": {
        "id": "dyE7xZtNO8Ls",
        "outputId": "3a87d270-e361-4174-fecc-58d4133beb0d",
        "colab": {
          "base_uri": "https://localhost:8080/"
        }
      },
      "source": [
        "#Change status and tournament to categories\n",
        "combo['tournament'] = combo['tournament'].astype('category')\n",
        "combo['Status'] = combo['Status'].astype('category')\n",
        "combo.info()"
      ],
      "execution_count": null,
      "outputs": [
        {
          "output_type": "stream",
          "text": [
            "<class 'pandas.core.frame.DataFrame'>\n",
            "Int64Index: 690264 entries, 0 to 690263\n",
            "Data columns (total 12 columns):\n",
            " #   Column                     Non-Null Count   Dtype         \n",
            "---  ------                     --------------   -----         \n",
            " 0   home_team                  690264 non-null  object        \n",
            " 1   away_team                  690264 non-null  object        \n",
            " 2   home_score                 690264 non-null  int64         \n",
            " 3   away_score                 690264 non-null  int64         \n",
            " 4   tournament                 690264 non-null  category      \n",
            " 5   home_team_rank             690264 non-null  int64         \n",
            " 6   rank_date_x                690264 non-null  datetime64[ns]\n",
            " 7   home_team_weighted_points  690264 non-null  float64       \n",
            " 8   away_team_rank             690264 non-null  int64         \n",
            " 9   rank_date_y                690264 non-null  datetime64[ns]\n",
            " 10  away_team_weighted_points  690264 non-null  float64       \n",
            " 11  Status                     690264 non-null  category      \n",
            "dtypes: category(2), datetime64[ns](2), float64(2), int64(4), object(2)\n",
            "memory usage: 59.2+ MB\n"
          ],
          "name": "stdout"
        }
      ]
    },
    {
      "cell_type": "code",
      "metadata": {
        "id": "PgTCbC5Zk--3",
        "outputId": "2c7ee488-a161-4035-f37e-fb9d87d84558",
        "colab": {
          "base_uri": "https://localhost:8080/",
          "height": 411
        }
      },
      "source": [
        "# Import label encoder \n",
        "from sklearn import preprocessing \n",
        "  \n",
        "# label_encoder object knows how to understand word labels. \n",
        "label_encoder = preprocessing.LabelEncoder() \n",
        "  \n",
        "# Encode labels in column 'Status'. \n",
        "combo['Status']= label_encoder.fit_transform(combo['Status']) \n",
        "  \n",
        "print(combo['Status'].unique()) \n",
        "combo.head()\n",
        "#Where 2:win, 1: lose, 0:Draw"
      ],
      "execution_count": null,
      "outputs": [
        {
          "output_type": "stream",
          "text": [
            "[2 0 1]\n"
          ],
          "name": "stdout"
        },
        {
          "output_type": "execute_result",
          "data": {
            "text/html": [
              "<div>\n",
              "<style scoped>\n",
              "    .dataframe tbody tr th:only-of-type {\n",
              "        vertical-align: middle;\n",
              "    }\n",
              "\n",
              "    .dataframe tbody tr th {\n",
              "        vertical-align: top;\n",
              "    }\n",
              "\n",
              "    .dataframe thead th {\n",
              "        text-align: right;\n",
              "    }\n",
              "</style>\n",
              "<table border=\"1\" class=\"dataframe\">\n",
              "  <thead>\n",
              "    <tr style=\"text-align: right;\">\n",
              "      <th></th>\n",
              "      <th>home_team</th>\n",
              "      <th>away_team</th>\n",
              "      <th>home_score</th>\n",
              "      <th>away_score</th>\n",
              "      <th>tournament</th>\n",
              "      <th>home_team_rank</th>\n",
              "      <th>rank_date_x</th>\n",
              "      <th>home_team_weighted_points</th>\n",
              "      <th>away_team_rank</th>\n",
              "      <th>rank_date_y</th>\n",
              "      <th>away_team_weighted_points</th>\n",
              "      <th>Status</th>\n",
              "    </tr>\n",
              "  </thead>\n",
              "  <tbody>\n",
              "    <tr>\n",
              "      <th>0</th>\n",
              "      <td>United Arab Emirates</td>\n",
              "      <td>Qatar</td>\n",
              "      <td>3</td>\n",
              "      <td>1</td>\n",
              "      <td>Friendly</td>\n",
              "      <td>112</td>\n",
              "      <td>2011-09-21</td>\n",
              "      <td>168.98</td>\n",
              "      <td>100</td>\n",
              "      <td>2011-09-21</td>\n",
              "      <td>291.93</td>\n",
              "      <td>2</td>\n",
              "    </tr>\n",
              "    <tr>\n",
              "      <th>1</th>\n",
              "      <td>United Arab Emirates</td>\n",
              "      <td>Qatar</td>\n",
              "      <td>3</td>\n",
              "      <td>1</td>\n",
              "      <td>Friendly</td>\n",
              "      <td>112</td>\n",
              "      <td>2011-09-21</td>\n",
              "      <td>168.98</td>\n",
              "      <td>92</td>\n",
              "      <td>2011-10-19</td>\n",
              "      <td>305.53</td>\n",
              "      <td>2</td>\n",
              "    </tr>\n",
              "    <tr>\n",
              "      <th>2</th>\n",
              "      <td>United Arab Emirates</td>\n",
              "      <td>Qatar</td>\n",
              "      <td>3</td>\n",
              "      <td>1</td>\n",
              "      <td>Friendly</td>\n",
              "      <td>112</td>\n",
              "      <td>2011-09-21</td>\n",
              "      <td>168.98</td>\n",
              "      <td>95</td>\n",
              "      <td>2011-11-23</td>\n",
              "      <td>333.73</td>\n",
              "      <td>2</td>\n",
              "    </tr>\n",
              "    <tr>\n",
              "      <th>3</th>\n",
              "      <td>United Arab Emirates</td>\n",
              "      <td>Qatar</td>\n",
              "      <td>3</td>\n",
              "      <td>1</td>\n",
              "      <td>Friendly</td>\n",
              "      <td>112</td>\n",
              "      <td>2011-09-21</td>\n",
              "      <td>168.98</td>\n",
              "      <td>93</td>\n",
              "      <td>2011-12-21</td>\n",
              "      <td>314.79</td>\n",
              "      <td>2</td>\n",
              "    </tr>\n",
              "    <tr>\n",
              "      <th>4</th>\n",
              "      <td>United Arab Emirates</td>\n",
              "      <td>Qatar</td>\n",
              "      <td>3</td>\n",
              "      <td>1</td>\n",
              "      <td>Friendly</td>\n",
              "      <td>113</td>\n",
              "      <td>2011-10-19</td>\n",
              "      <td>169.00</td>\n",
              "      <td>100</td>\n",
              "      <td>2011-09-21</td>\n",
              "      <td>291.93</td>\n",
              "      <td>2</td>\n",
              "    </tr>\n",
              "  </tbody>\n",
              "</table>\n",
              "</div>"
            ],
            "text/plain": [
              "              home_team away_team  ...  away_team_weighted_points  Status\n",
              "0  United Arab Emirates     Qatar  ...                     291.93       2\n",
              "1  United Arab Emirates     Qatar  ...                     305.53       2\n",
              "2  United Arab Emirates     Qatar  ...                     333.73       2\n",
              "3  United Arab Emirates     Qatar  ...                     314.79       2\n",
              "4  United Arab Emirates     Qatar  ...                     291.93       2\n",
              "\n",
              "[5 rows x 12 columns]"
            ]
          },
          "metadata": {
            "tags": []
          },
          "execution_count": 31
        }
      ]
    },
    {
      "cell_type": "code",
      "metadata": {
        "id": "ZmNGC0cYldqR",
        "outputId": "9e2e3c53-44e7-4653-f407-c0a80ecff73b",
        "colab": {
          "base_uri": "https://localhost:8080/",
          "height": 428
        }
      },
      "source": [
        "# Encode labels in column 'touranament'. \n",
        "combo['tournament']= label_encoder.fit_transform(combo['tournament']) \n",
        "  \n",
        "print(combo['tournament'].unique()) \n",
        "combo.head()\n"
      ],
      "execution_count": null,
      "outputs": [
        {
          "output_type": "stream",
          "text": [
            "[22 21 10  7 32 31  0 36 18 33  6 34  8 40 35 17  3  5 19 28 26 39  9 12\n",
            " 11 30 24  2  4 13 14 29 23 38 20 41  1 15 27 16 37 25]\n"
          ],
          "name": "stdout"
        },
        {
          "output_type": "execute_result",
          "data": {
            "text/html": [
              "<div>\n",
              "<style scoped>\n",
              "    .dataframe tbody tr th:only-of-type {\n",
              "        vertical-align: middle;\n",
              "    }\n",
              "\n",
              "    .dataframe tbody tr th {\n",
              "        vertical-align: top;\n",
              "    }\n",
              "\n",
              "    .dataframe thead th {\n",
              "        text-align: right;\n",
              "    }\n",
              "</style>\n",
              "<table border=\"1\" class=\"dataframe\">\n",
              "  <thead>\n",
              "    <tr style=\"text-align: right;\">\n",
              "      <th></th>\n",
              "      <th>home_team</th>\n",
              "      <th>away_team</th>\n",
              "      <th>home_score</th>\n",
              "      <th>away_score</th>\n",
              "      <th>tournament</th>\n",
              "      <th>home_team_rank</th>\n",
              "      <th>rank_date_x</th>\n",
              "      <th>home_team_weighted_points</th>\n",
              "      <th>away_team_rank</th>\n",
              "      <th>rank_date_y</th>\n",
              "      <th>away_team_weighted_points</th>\n",
              "      <th>Status</th>\n",
              "    </tr>\n",
              "  </thead>\n",
              "  <tbody>\n",
              "    <tr>\n",
              "      <th>0</th>\n",
              "      <td>United Arab Emirates</td>\n",
              "      <td>Qatar</td>\n",
              "      <td>3</td>\n",
              "      <td>1</td>\n",
              "      <td>22</td>\n",
              "      <td>112</td>\n",
              "      <td>2011-09-21</td>\n",
              "      <td>168.98</td>\n",
              "      <td>100</td>\n",
              "      <td>2011-09-21</td>\n",
              "      <td>291.93</td>\n",
              "      <td>2</td>\n",
              "    </tr>\n",
              "    <tr>\n",
              "      <th>1</th>\n",
              "      <td>United Arab Emirates</td>\n",
              "      <td>Qatar</td>\n",
              "      <td>3</td>\n",
              "      <td>1</td>\n",
              "      <td>22</td>\n",
              "      <td>112</td>\n",
              "      <td>2011-09-21</td>\n",
              "      <td>168.98</td>\n",
              "      <td>92</td>\n",
              "      <td>2011-10-19</td>\n",
              "      <td>305.53</td>\n",
              "      <td>2</td>\n",
              "    </tr>\n",
              "    <tr>\n",
              "      <th>2</th>\n",
              "      <td>United Arab Emirates</td>\n",
              "      <td>Qatar</td>\n",
              "      <td>3</td>\n",
              "      <td>1</td>\n",
              "      <td>22</td>\n",
              "      <td>112</td>\n",
              "      <td>2011-09-21</td>\n",
              "      <td>168.98</td>\n",
              "      <td>95</td>\n",
              "      <td>2011-11-23</td>\n",
              "      <td>333.73</td>\n",
              "      <td>2</td>\n",
              "    </tr>\n",
              "    <tr>\n",
              "      <th>3</th>\n",
              "      <td>United Arab Emirates</td>\n",
              "      <td>Qatar</td>\n",
              "      <td>3</td>\n",
              "      <td>1</td>\n",
              "      <td>22</td>\n",
              "      <td>112</td>\n",
              "      <td>2011-09-21</td>\n",
              "      <td>168.98</td>\n",
              "      <td>93</td>\n",
              "      <td>2011-12-21</td>\n",
              "      <td>314.79</td>\n",
              "      <td>2</td>\n",
              "    </tr>\n",
              "    <tr>\n",
              "      <th>4</th>\n",
              "      <td>United Arab Emirates</td>\n",
              "      <td>Qatar</td>\n",
              "      <td>3</td>\n",
              "      <td>1</td>\n",
              "      <td>22</td>\n",
              "      <td>113</td>\n",
              "      <td>2011-10-19</td>\n",
              "      <td>169.00</td>\n",
              "      <td>100</td>\n",
              "      <td>2011-09-21</td>\n",
              "      <td>291.93</td>\n",
              "      <td>2</td>\n",
              "    </tr>\n",
              "  </tbody>\n",
              "</table>\n",
              "</div>"
            ],
            "text/plain": [
              "              home_team away_team  ...  away_team_weighted_points  Status\n",
              "0  United Arab Emirates     Qatar  ...                     291.93       2\n",
              "1  United Arab Emirates     Qatar  ...                     305.53       2\n",
              "2  United Arab Emirates     Qatar  ...                     333.73       2\n",
              "3  United Arab Emirates     Qatar  ...                     314.79       2\n",
              "4  United Arab Emirates     Qatar  ...                     291.93       2\n",
              "\n",
              "[5 rows x 12 columns]"
            ]
          },
          "metadata": {
            "tags": []
          },
          "execution_count": 32
        }
      ]
    },
    {
      "cell_type": "markdown",
      "metadata": {
        "id": "fkCH6qEVm14n"
      },
      "source": [
        "As explained earlier we will use Polynomial Regression and logistic Regression for this study.\n",
        "For polynomial approach we will use two models:\n",
        "\n",
        "Model 1: Predict how many goals the home team scores.\n",
        "\n",
        "Model 2: Predict how many goals the away team scores.\n",
        "\n",
        "We will separate our combo into two to prepare it for modelling using both models\n"
      ]
    },
    {
      "cell_type": "markdown",
      "metadata": {
        "id": "TyEaLLl4nlCe"
      },
      "source": [
        "## Approach 1: Using Polynomial regression.\n",
        "Create a model that can predict how many goals the home team scores"
      ]
    },
    {
      "cell_type": "markdown",
      "metadata": {
        "id": "A0_SSOPDpMT9"
      },
      "source": [
        "### *Predicting home score*"
      ]
    },
    {
      "cell_type": "code",
      "metadata": {
        "id": "VAQxaGqPiBkj",
        "outputId": "1a9ef185-4544-488c-8c39-65dde1bc57bd",
        "colab": {
          "base_uri": "https://localhost:8080/",
          "height": 204
        }
      },
      "source": [
        "# Selecting columns relevant to the reasearch question\n",
        "#\n",
        "dataset = matches[['home_team',\t'away_team',\t'home_score',\t'away_score',\t'tournament', 'home_team_rank', 'away_team_rank']]\n",
        "\n",
        "# Previewing the first five rows of the dataset\n",
        "#\n",
        "dataset.head()"
      ],
      "execution_count": null,
      "outputs": [
        {
          "output_type": "execute_result",
          "data": {
            "text/html": [
              "<div>\n",
              "<style scoped>\n",
              "    .dataframe tbody tr th:only-of-type {\n",
              "        vertical-align: middle;\n",
              "    }\n",
              "\n",
              "    .dataframe tbody tr th {\n",
              "        vertical-align: top;\n",
              "    }\n",
              "\n",
              "    .dataframe thead th {\n",
              "        text-align: right;\n",
              "    }\n",
              "</style>\n",
              "<table border=\"1\" class=\"dataframe\">\n",
              "  <thead>\n",
              "    <tr style=\"text-align: right;\">\n",
              "      <th></th>\n",
              "      <th>home_team</th>\n",
              "      <th>away_team</th>\n",
              "      <th>home_score</th>\n",
              "      <th>away_score</th>\n",
              "      <th>tournament</th>\n",
              "      <th>home_team_rank</th>\n",
              "      <th>away_team_rank</th>\n",
              "    </tr>\n",
              "  </thead>\n",
              "  <tbody>\n",
              "    <tr>\n",
              "      <th>0</th>\n",
              "      <td>United Arab Emirates</td>\n",
              "      <td>Qatar</td>\n",
              "      <td>3</td>\n",
              "      <td>1</td>\n",
              "      <td>22</td>\n",
              "      <td>112</td>\n",
              "      <td>100</td>\n",
              "    </tr>\n",
              "    <tr>\n",
              "      <th>1</th>\n",
              "      <td>United Arab Emirates</td>\n",
              "      <td>Qatar</td>\n",
              "      <td>3</td>\n",
              "      <td>1</td>\n",
              "      <td>22</td>\n",
              "      <td>112</td>\n",
              "      <td>92</td>\n",
              "    </tr>\n",
              "    <tr>\n",
              "      <th>2</th>\n",
              "      <td>United Arab Emirates</td>\n",
              "      <td>Qatar</td>\n",
              "      <td>3</td>\n",
              "      <td>1</td>\n",
              "      <td>22</td>\n",
              "      <td>112</td>\n",
              "      <td>95</td>\n",
              "    </tr>\n",
              "    <tr>\n",
              "      <th>3</th>\n",
              "      <td>United Arab Emirates</td>\n",
              "      <td>Qatar</td>\n",
              "      <td>3</td>\n",
              "      <td>1</td>\n",
              "      <td>22</td>\n",
              "      <td>112</td>\n",
              "      <td>93</td>\n",
              "    </tr>\n",
              "    <tr>\n",
              "      <th>4</th>\n",
              "      <td>United Arab Emirates</td>\n",
              "      <td>Qatar</td>\n",
              "      <td>3</td>\n",
              "      <td>1</td>\n",
              "      <td>22</td>\n",
              "      <td>113</td>\n",
              "      <td>100</td>\n",
              "    </tr>\n",
              "  </tbody>\n",
              "</table>\n",
              "</div>"
            ],
            "text/plain": [
              "              home_team away_team  ...  home_team_rank  away_team_rank\n",
              "0  United Arab Emirates     Qatar  ...             112             100\n",
              "1  United Arab Emirates     Qatar  ...             112              92\n",
              "2  United Arab Emirates     Qatar  ...             112              95\n",
              "3  United Arab Emirates     Qatar  ...             112              93\n",
              "4  United Arab Emirates     Qatar  ...             113             100\n",
              "\n",
              "[5 rows x 7 columns]"
            ]
          },
          "metadata": {
            "tags": []
          },
          "execution_count": 44
        }
      ]
    },
    {
      "cell_type": "markdown",
      "metadata": {
        "id": "YqFuPfTJst4j"
      },
      "source": [
        "#### Checking for multicollinearity\n",
        "[Multicollinearity](https://en.wikipedia.org/wiki/Multicollinearity) refers to a situation in which two or more explanatory variables in a multiple regression model are highly linearly related. We have perfect multicollinearity if, for example as in the equation above, the correlation between two independent variables is equal to 1 or −1"
      ]
    },
    {
      "cell_type": "code",
      "metadata": {
        "id": "7Hmbn74os1t0",
        "outputId": "ec41ee34-c00f-4544-de8c-fdd2d6f69999",
        "colab": {
          "base_uri": "https://localhost:8080/",
          "height": 173
        }
      },
      "source": [
        "# Displaying the correlations between the variables\n",
        "#\n",
        "corrs = dataset.drop('home_score', axis = 1).corr()\n",
        "corrs"
      ],
      "execution_count": null,
      "outputs": [
        {
          "output_type": "execute_result",
          "data": {
            "text/html": [
              "<div>\n",
              "<style scoped>\n",
              "    .dataframe tbody tr th:only-of-type {\n",
              "        vertical-align: middle;\n",
              "    }\n",
              "\n",
              "    .dataframe tbody tr th {\n",
              "        vertical-align: top;\n",
              "    }\n",
              "\n",
              "    .dataframe thead th {\n",
              "        text-align: right;\n",
              "    }\n",
              "</style>\n",
              "<table border=\"1\" class=\"dataframe\">\n",
              "  <thead>\n",
              "    <tr style=\"text-align: right;\">\n",
              "      <th></th>\n",
              "      <th>away_score</th>\n",
              "      <th>tournament</th>\n",
              "      <th>home_team_rank</th>\n",
              "      <th>away_team_rank</th>\n",
              "    </tr>\n",
              "  </thead>\n",
              "  <tbody>\n",
              "    <tr>\n",
              "      <th>away_score</th>\n",
              "      <td>1.000000</td>\n",
              "      <td>0.027141</td>\n",
              "      <td>0.194509</td>\n",
              "      <td>-0.212452</td>\n",
              "    </tr>\n",
              "    <tr>\n",
              "      <th>tournament</th>\n",
              "      <td>0.027141</td>\n",
              "      <td>1.000000</td>\n",
              "      <td>-0.196711</td>\n",
              "      <td>-0.197538</td>\n",
              "    </tr>\n",
              "    <tr>\n",
              "      <th>home_team_rank</th>\n",
              "      <td>0.194509</td>\n",
              "      <td>-0.196711</td>\n",
              "      <td>1.000000</td>\n",
              "      <td>0.501955</td>\n",
              "    </tr>\n",
              "    <tr>\n",
              "      <th>away_team_rank</th>\n",
              "      <td>-0.212452</td>\n",
              "      <td>-0.197538</td>\n",
              "      <td>0.501955</td>\n",
              "      <td>1.000000</td>\n",
              "    </tr>\n",
              "  </tbody>\n",
              "</table>\n",
              "</div>"
            ],
            "text/plain": [
              "                away_score  tournament  home_team_rank  away_team_rank\n",
              "away_score        1.000000    0.027141        0.194509       -0.212452\n",
              "tournament        0.027141    1.000000       -0.196711       -0.197538\n",
              "home_team_rank    0.194509   -0.196711        1.000000        0.501955\n",
              "away_team_rank   -0.212452   -0.197538        0.501955        1.000000"
            ]
          },
          "metadata": {
            "tags": []
          },
          "execution_count": 46
        }
      ]
    },
    {
      "cell_type": "markdown",
      "metadata": {
        "id": "0v-uu7uktxhv"
      },
      "source": [
        "*The tabe above shows how each variable relates to another. The coefficient of 1 across the diagonal makes sense, as a variable is perfectly correlated to itself. The correlations have been used to compute the VIF (Variance Inflation Factor) score for each variable.The VIF is created by finding the inverse matrix of the correations matrix.*"
      ]
    },
    {
      "cell_type": "code",
      "metadata": {
        "id": "07vQ2FUus1qX",
        "outputId": "1a99027b-8163-493e-8023-d3239b1852ad",
        "colab": {
          "base_uri": "https://localhost:8080/",
          "height": 173
        }
      },
      "source": [
        "# Creating a dataframe of the VIF\n",
        "#\n",
        "vif_df = pd.DataFrame(np.linalg.inv(corrs.values), index = corrs.index, columns = corrs.columns)\n",
        "vif_df"
      ],
      "execution_count": null,
      "outputs": [
        {
          "output_type": "execute_result",
          "data": {
            "text/html": [
              "<div>\n",
              "<style scoped>\n",
              "    .dataframe tbody tr th:only-of-type {\n",
              "        vertical-align: middle;\n",
              "    }\n",
              "\n",
              "    .dataframe tbody tr th {\n",
              "        vertical-align: top;\n",
              "    }\n",
              "\n",
              "    .dataframe thead th {\n",
              "        text-align: right;\n",
              "    }\n",
              "</style>\n",
              "<table border=\"1\" class=\"dataframe\">\n",
              "  <thead>\n",
              "    <tr style=\"text-align: right;\">\n",
              "      <th></th>\n",
              "      <th>away_score</th>\n",
              "      <th>tournament</th>\n",
              "      <th>home_team_rank</th>\n",
              "      <th>away_team_rank</th>\n",
              "    </tr>\n",
              "  </thead>\n",
              "  <tbody>\n",
              "    <tr>\n",
              "      <th>away_score</th>\n",
              "      <td>1.200487</td>\n",
              "      <td>-0.030951</td>\n",
              "      <td>-0.487335</td>\n",
              "      <td>0.493552</td>\n",
              "    </tr>\n",
              "    <tr>\n",
              "      <th>tournament</th>\n",
              "      <td>-0.030951</td>\n",
              "      <td>1.055366</td>\n",
              "      <td>0.150095</td>\n",
              "      <td>0.126558</td>\n",
              "    </tr>\n",
              "    <tr>\n",
              "      <th>home_team_rank</th>\n",
              "      <td>-0.487335</td>\n",
              "      <td>0.150095</td>\n",
              "      <td>1.552594</td>\n",
              "      <td>-0.853218</td>\n",
              "    </tr>\n",
              "    <tr>\n",
              "      <th>away_team_rank</th>\n",
              "      <td>0.493552</td>\n",
              "      <td>0.126558</td>\n",
              "      <td>-0.853218</td>\n",
              "      <td>1.558134</td>\n",
              "    </tr>\n",
              "  </tbody>\n",
              "</table>\n",
              "</div>"
            ],
            "text/plain": [
              "                away_score  tournament  home_team_rank  away_team_rank\n",
              "away_score        1.200487   -0.030951       -0.487335        0.493552\n",
              "tournament       -0.030951    1.055366        0.150095        0.126558\n",
              "home_team_rank   -0.487335    0.150095        1.552594       -0.853218\n",
              "away_team_rank    0.493552    0.126558       -0.853218        1.558134"
            ]
          },
          "metadata": {
            "tags": []
          },
          "execution_count": 47
        }
      ]
    },
    {
      "cell_type": "code",
      "metadata": {
        "id": "Xs17mJ9cs1iL",
        "outputId": "a35bf605-0b1a-47ec-fdfe-1cc47bdadd40",
        "colab": {
          "base_uri": "https://localhost:8080/",
          "height": 375
        }
      },
      "source": [
        "# Creating a heatmap of the vif_df\n",
        "#\n",
        "plt.figure(figsize = (10, 6))\n",
        "sns.heatmap(vif_df, annot = True)\n",
        "plt.show()"
      ],
      "execution_count": null,
      "outputs": [
        {
          "output_type": "display_data",
          "data": {
            "image/png": "[encoded data removed]",
            "text/plain": [
              "<Figure size 720x432 with 2 Axes>"
            ]
          },
          "metadata": {
            "tags": [],
            "needs_background": "light"
          }
        }
      ]
    },
    {
      "cell_type": "markdown",
      "metadata": {
        "id": "d3sMGc0vvWg2"
      },
      "source": [
        "*The VIF score for each variable is found alongside the downwards sloping diagonal. All of this scores are under 5, therefore there is no multicollinearity*"
      ]
    },
    {
      "cell_type": "markdown",
      "metadata": {
        "id": "dtYuI0pTwbFs"
      },
      "source": [
        "#### Creating the polynomial model"
      ]
    },
    {
      "cell_type": "code",
      "metadata": {
        "id": "29KfpXYZm190"
      },
      "source": [
        "#Import libaries\n",
        "from sklearn.preprocessing import PolynomialFeatures\n",
        "\n",
        "from sklearn.preprocessing import StandardScaler\n",
        "\n",
        "from sklearn.model_selection import train_test_split\n",
        "\n",
        "# Import LinearRegression method from sklearn linear_model library\n",
        "from sklearn.linear_model import LinearRegression\n",
        "\n",
        "from sklearn.metrics import mean_squared_error\n"
      ],
      "execution_count": null,
      "outputs": []
    },
    {
      "cell_type": "code",
      "metadata": {
        "id": "3Z4eq_CueAlL",
        "outputId": "2ed57ba4-dee2-4e76-8100-09fe7ff4461d",
        "colab": {
          "base_uri": "https://localhost:8080/"
        }
      },
      "source": [
        "# Creating X and y variables\n",
        "#\n",
        "X = dataset.iloc[:, [0, 1, 3, 4, 5, 6]]\n",
        "y = dataset.home_score\n",
        "\n",
        "# Encoding categorical variables\n",
        "#\n",
        "X = pd.get_dummies(X, drop_first=True)\n",
        "\n",
        "# Splitting the dataset into training and testing sets\n",
        "#\n",
        "X_train, X_test, y_train, y_test = train_test_split(X, y, test_size = 0.25, random_state = 101)\n",
        "\n",
        "# Standardising the X_train and the X_test to the same scale\n",
        "#\n",
        "sc = StandardScaler()\n",
        "X_train = sc.fit_transform(X_train)\n",
        "X_test = sc.transform(X_test)\n",
        "\n",
        "# Fitting the polynomial features to the X_train and X_test\n",
        "#\n",
        "poly_features = PolynomialFeatures(degree = 1)\n",
        "X_train = poly_features.fit_transform(X_train)\n",
        "X_test = poly_features.fit_transform(X_test)\n",
        "\n",
        "# Training the model\n",
        "#\n",
        "regressor = LinearRegression()\n",
        "regressor.fit(X_train, y_train)\n",
        "\n",
        "# Making predictions\n",
        "#\n",
        "y_pred = regressor.predict(X_test)\n",
        "\n",
        "# Measuring the accuracy of the model\n",
        "#\n",
        "print(np.sqrt(mean_squared_error(y_test, y_pred)))"
      ],
      "execution_count": null,
      "outputs": [
        {
          "output_type": "stream",
          "text": [
            "1.1748404802294694\n"
          ],
          "name": "stdout"
        }
      ]
    },
    {
      "cell_type": "markdown",
      "metadata": {
        "id": "Bs7tZDIE-uty"
      },
      "source": [
        "*The lower the RMSE of a model, the better the performance of the model. Therefore, this model is fairly good in making predictions*"
      ]
    },
    {
      "cell_type": "markdown",
      "metadata": {
        "id": "Ee4HcyU33cnu"
      },
      "source": [
        "#### Hyperparameter tuning to find the optimal parameters for the model"
      ]
    },
    {
      "cell_type": "code",
      "metadata": {
        "id": "2vYCF2THni4B"
      },
      "source": [
        "from sklearn.model_selection import cross_val_score\n",
        "\n",
        "from sklearn.model_selection import GridSearchCV\n",
        "import scipy as sp\n",
        "from sklearn.model_selection import KFold"
      ],
      "execution_count": null,
      "outputs": []
    },
    {
      "cell_type": "code",
      "metadata": {
        "id": "LtBC7ZH54VNH",
        "outputId": "a8ad3e00-8d21-4da5-c05b-ef02d77e75c7",
        "colab": {
          "base_uri": "https://localhost:8080/"
        }
      },
      "source": [
        "# Tuning the parameters of the linear regression model to find the optimal \n",
        "# Printing the Linear Regression model parameters that can be tuned\n",
        "#\n",
        "from sklearn.linear_model import LinearRegression\n",
        "LinearRegression()"
      ],
      "execution_count": null,
      "outputs": [
        {
          "output_type": "execute_result",
          "data": {
            "text/plain": [
              "LinearRegression(copy_X=True, fit_intercept=True, n_jobs=None, normalize=False)"
            ]
          },
          "metadata": {
            "tags": []
          },
          "execution_count": 61
        }
      ]
    },
    {
      "cell_type": "code",
      "metadata": {
        "id": "pUxff-iE5hOa",
        "outputId": "03629708-a178-45ac-ffa0-b6fd5359ddaf",
        "colab": {
          "base_uri": "https://localhost:8080/"
        }
      },
      "source": [
        "# The parameters that can be tuned are fitting the intercept and normalizing\n",
        "# Creating a parameters dictionary\n",
        "#\n",
        "params = {'normalize': [True, False],\n",
        "         'fit_intercept': [True, False]}\n",
        "\n",
        "# Creating a cross validation of 5 folds\n",
        "#\n",
        "kfold = KFold(n_splits = 5)\n",
        "\n",
        "# Using grid search to find the optimal parameters\n",
        "#\n",
        "grid_search = GridSearchCV(estimator=regressor, param_grid = params, cv = kfold, scoring = 'neg_mean_squared_error')\n",
        "\n",
        "# Fitting the grid search \n",
        "#\n",
        "grid_search_results = grid_search.fit(X, y)\n",
        "\n",
        "# Displaying the best parameters and the the best score\n",
        "#\n",
        "print(f'Best score is {grid_search.best_score_} and the best parameters are {grid_search.best_params_}')"
      ],
      "execution_count": null,
      "outputs": [
        {
          "output_type": "stream",
          "text": [
            "Best score is -1757909853725342.8 and the best parameters are {'fit_intercept': False, 'normalize': True}\n"
          ],
          "name": "stdout"
        }
      ]
    },
    {
      "cell_type": "markdown",
      "metadata": {
        "id": "MwkizEgs7_Gy"
      },
      "source": [
        "*The optimal parameters for this model are {'fit_intercept': True, 'normalize': False}*"
      ]
    },
    {
      "cell_type": "markdown",
      "metadata": {
        "id": "JmKKj4ec3PYK"
      },
      "source": [
        "#### Performing cross validation to check for overfitting or underfitting"
      ]
    },
    {
      "cell_type": "code",
      "metadata": {
        "id": "oXHgYK5F3Z4_",
        "outputId": "11e6de59-9529-4056-b4bd-598ca4bbadc7",
        "colab": {
          "base_uri": "https://localhost:8080/"
        }
      },
      "source": [
        "# Performing cross validation of 5 folds\n",
        "#\n",
        "scores = cross_val_score(regressor, X, y, scoring = 'neg_mean_squared_error', cv = 5)\n",
        "\n",
        "# Calculating the mean of the cross validation scores\n",
        "#\n",
        "print(f'Mean of cross validation scores is {np.round(scores.mean()*-1, 3)}')\n",
        "\n",
        "# Calculating the variance of the cross validation scores from the mean\n",
        "#\n",
        "print(f'Standard deviation of the cross validation scores is {np.round(scores.std(), 3)}')"
      ],
      "execution_count": null,
      "outputs": [
        {
          "output_type": "stream",
          "text": [
            "Mean of cross validation scores is 8.09255024101926e+16\n",
            "Standard deviation of the cross validation scores is 1.5589581053757232e+17\n"
          ],
          "name": "stdout"
        }
      ]
    },
    {
      "cell_type": "markdown",
      "metadata": {
        "id": "Zma_yxKY-e_7"
      },
      "source": [
        "*From the above mean and standard deviation it can be seen the model is fairly stable, as it varies only by 1.559, from the mean*"
      ]
    },
    {
      "cell_type": "markdown",
      "metadata": {
        "id": "nurKkhvYxJQ6"
      },
      "source": [
        "#### Checking the appripriateness of the model using a residual plot\n",
        "A [residual](https://stattrek.com/statistics/dictionary.aspx?definition=residual%20plot) plot is a graph that shows the residuals on the vertical axis and the independent variable on the horizontal axis. If the points in a residual plot are randomly dispersed around the horizontal axis, a linear regression model is appropriate for the data; otherwise, a non-linear model is more appropriate."
      ]
    },
    {
      "cell_type": "code",
      "metadata": {
        "id": "naCAt0IheARD",
        "outputId": "e16c0431-7f45-4d7f-82d1-22a5b0027027",
        "colab": {
          "base_uri": "https://localhost:8080/",
          "height": 295
        }
      },
      "source": [
        "# Plotting the residual plot\n",
        "# Residuals have been calculated by by substracting the test value from the predicted value\n",
        "# \n",
        "residuals = np.subtract(y_pred, y_test)\n",
        "\n",
        "# Plotting the residual scatterplot\n",
        "#\n",
        "plt.scatter(y_pred, residuals, color='black')\n",
        "plt.title('Residual Plot')\n",
        "plt.ylabel('residual')\n",
        "plt.xlabel('fitted values')\n",
        "plt.axhline(y= residuals.mean(), color='red', linewidth=1)\n",
        "plt.show()"
      ],
      "execution_count": null,
      "outputs": [
        {
          "output_type": "display_data",
          "data": {
            "image/png": "[encoded data removed]",
            "text/plain": [
              "<Figure size 432x288 with 1 Axes>"
            ]
          },
          "metadata": {
            "tags": [],
            "needs_background": "light"
          }
        }
      ]
    },
    {
      "cell_type": "markdown",
      "metadata": {
        "id": "5On7GSjayfpv"
      },
      "source": [
        "*The residuals are centered around a mean that is very close to 0, and there are no glaringly obvious patterns. \n",
        "This shows that the model is fairly good*"
      ]
    },
    {
      "cell_type": "markdown",
      "metadata": {
        "id": "8utIa6uayzCG"
      },
      "source": [
        "#### Heteroskedasticity test using the barlett's test\n",
        "The concept of [heteroscedasticity](https://www.xlstat.com/en/solutions/features/heteroscedasticity-tests) - is used in statistics, especially in the context of linear regression or for time series analysis, to describe the case where the variance of errors or the model is not the same for all observations, while often one of the basic assumption in modeling is that the variances are homogeneous and that the errors of the model are identically distributed.\n",
        "\n",
        "The barlett's test establishes as a null hypothesis that the variance is equal for all our datapoints,and the new hypothesis that the variance is different for at least one pair of datapoints"
      ]
    },
    {
      "cell_type": "code",
      "metadata": {
        "id": "HuQgTZmLeANl",
        "outputId": "93b4a0d8-b72e-4301-f73d-8d82f7e99d46",
        "colab": {
          "base_uri": "https://localhost:8080/"
        }
      },
      "source": [
        "# Performing the barlett's test\n",
        "#\n",
        "test_result, p_value = sp.stats.bartlett(y_pred, residuals)\n",
        "\n",
        "# Calculating the critical value of the chi squared distribution, to compare it with the test_result\n",
        "#\n",
        "degrees_of_freedom = len(y_pred) - 1\n",
        "probability =  1 - p_value\n",
        "critical_value = sp.stats.chi2.ppf(probability, degrees_of_freedom)\n",
        "\n",
        "# If the test_result is greater than the critical value, then the null hypothesis is\n",
        "# rejected. This means that there are patterns to the variance of the data\n",
        "\n",
        "# Otherwise, if no patterns are identified, null hypothesis is accepted. This means that \n",
        "# the variance is homogeneous across the dataset\n",
        "\n",
        "if (test_result > critical_value):\n",
        "  print(f'The test result of {np.round(test_result,2)} is greater than the critical value of {np.round(critical_value, 2)}')\n",
        "  print('Thefore the variances are unequal, which means that the model should be reassessed')\n",
        "  print('The variances are heterogenous')\n",
        "else:\n",
        "  print(f'The test result of {np.round(test_result,2)} is less than the critical value of {np.round(critical_value, 2)}')\n",
        "  print('Thefore the variances are equal, which means that the model is okey. No need to reasses')\n",
        "  print('The variances are homogeneous')"
      ],
      "execution_count": null,
      "outputs": [
        {
          "output_type": "stream",
          "text": [
            "The test result of 9745.6 is less than the critical value of inf\n",
            "Thefore the variances are equal, which means that the model is okey. No need to reasses\n",
            "The variances are homogeneous\n"
          ],
          "name": "stdout"
        }
      ]
    },
    {
      "cell_type": "markdown",
      "metadata": {
        "id": "6Dn8mo2S_iU7"
      },
      "source": [
        "## Approach 2: Using Logistic Regression.\n",
        "Create a model that can predict whether the home team will win, draw or lose"
      ]
    },
    {
      "cell_type": "code",
      "metadata": {
        "id": "7SeVhKQbeAGP",
        "outputId": "fe3bd8d2-ede8-4429-cb9f-4ed60e86d29e",
        "colab": {
          "base_uri": "https://localhost:8080/",
          "height": 204
        }
      },
      "source": [
        "# Selecting the relevant features for the logistic regression model\n",
        "#\n",
        "data = combo[['home_team',\t'away_team',\t'home_score',\t'away_score',\t'tournament', 'home_team_rank', 'away_team_rank', 'Status']]\n",
        "\n",
        "# Previewing the first five rows of the data\n",
        "#\n",
        "data.head()"
      ],
      "execution_count": null,
      "outputs": [
        {
          "output_type": "execute_result",
          "data": {
            "text/html": [
              "<div>\n",
              "<style scoped>\n",
              "    .dataframe tbody tr th:only-of-type {\n",
              "        vertical-align: middle;\n",
              "    }\n",
              "\n",
              "    .dataframe tbody tr th {\n",
              "        vertical-align: top;\n",
              "    }\n",
              "\n",
              "    .dataframe thead th {\n",
              "        text-align: right;\n",
              "    }\n",
              "</style>\n",
              "<table border=\"1\" class=\"dataframe\">\n",
              "  <thead>\n",
              "    <tr style=\"text-align: right;\">\n",
              "      <th></th>\n",
              "      <th>home_team</th>\n",
              "      <th>away_team</th>\n",
              "      <th>home_score</th>\n",
              "      <th>away_score</th>\n",
              "      <th>tournament</th>\n",
              "      <th>home_team_rank</th>\n",
              "      <th>away_team_rank</th>\n",
              "      <th>Status</th>\n",
              "    </tr>\n",
              "  </thead>\n",
              "  <tbody>\n",
              "    <tr>\n",
              "      <th>0</th>\n",
              "      <td>United Arab Emirates</td>\n",
              "      <td>Qatar</td>\n",
              "      <td>3</td>\n",
              "      <td>1</td>\n",
              "      <td>22</td>\n",
              "      <td>112</td>\n",
              "      <td>100</td>\n",
              "      <td>2</td>\n",
              "    </tr>\n",
              "    <tr>\n",
              "      <th>1</th>\n",
              "      <td>United Arab Emirates</td>\n",
              "      <td>Qatar</td>\n",
              "      <td>3</td>\n",
              "      <td>1</td>\n",
              "      <td>22</td>\n",
              "      <td>112</td>\n",
              "      <td>92</td>\n",
              "      <td>2</td>\n",
              "    </tr>\n",
              "    <tr>\n",
              "      <th>2</th>\n",
              "      <td>United Arab Emirates</td>\n",
              "      <td>Qatar</td>\n",
              "      <td>3</td>\n",
              "      <td>1</td>\n",
              "      <td>22</td>\n",
              "      <td>112</td>\n",
              "      <td>95</td>\n",
              "      <td>2</td>\n",
              "    </tr>\n",
              "    <tr>\n",
              "      <th>3</th>\n",
              "      <td>United Arab Emirates</td>\n",
              "      <td>Qatar</td>\n",
              "      <td>3</td>\n",
              "      <td>1</td>\n",
              "      <td>22</td>\n",
              "      <td>112</td>\n",
              "      <td>93</td>\n",
              "      <td>2</td>\n",
              "    </tr>\n",
              "    <tr>\n",
              "      <th>4</th>\n",
              "      <td>United Arab Emirates</td>\n",
              "      <td>Qatar</td>\n",
              "      <td>3</td>\n",
              "      <td>1</td>\n",
              "      <td>22</td>\n",
              "      <td>113</td>\n",
              "      <td>100</td>\n",
              "      <td>2</td>\n",
              "    </tr>\n",
              "  </tbody>\n",
              "</table>\n",
              "</div>"
            ],
            "text/plain": [
              "              home_team away_team  ...  away_team_rank  Status\n",
              "0  United Arab Emirates     Qatar  ...             100       2\n",
              "1  United Arab Emirates     Qatar  ...              92       2\n",
              "2  United Arab Emirates     Qatar  ...              95       2\n",
              "3  United Arab Emirates     Qatar  ...              93       2\n",
              "4  United Arab Emirates     Qatar  ...             100       2\n",
              "\n",
              "[5 rows x 8 columns]"
            ]
          },
          "metadata": {
            "tags": []
          },
          "execution_count": 76
        }
      ]
    },
    {
      "cell_type": "code",
      "metadata": {
        "id": "3OCBxmCiEIAf",
        "outputId": "9c36af5e-b937-423a-a8e7-46236a785792",
        "colab": {
          "base_uri": "https://localhost:8080/",
          "height": 350
        }
      },
      "source": [
        "# Checking whether the data is well balanced between all the results; win draw or lose\n",
        "#\n",
        "plt.figure(figsize = (10, 5))\n",
        "ax = sns.countplot(data.Status)\n",
        "ax.set_facecolor('mistyrose')\n",
        "plt.ylabel('Frequency')\n",
        "plt.xlabel('Result')\n",
        "plt.title('Barchart Showing Frequency of results')\n",
        "plt.show()\n",
        "\n",
        "#Where 2:win, 1: lose, 0:Draw"
      ],
      "execution_count": null,
      "outputs": [
        {
          "output_type": "display_data",
          "data": {
            "image/png": "[encoded data removed]",
            "text/plain": [
              "<Figure size 720x360 with 1 Axes>"
            ]
          },
          "metadata": {
            "tags": [],
            "needs_background": "light"
          }
        }
      ]
    },
    {
      "cell_type": "markdown",
      "metadata": {
        "id": "hDqY9fQ6FNMZ"
      },
      "source": [
        "*From the above chart, the results are fairly balanced*"
      ]
    },
    {
      "cell_type": "code",
      "metadata": {
        "id": "suTBtlDrIvSS",
        "outputId": "85473b50-977b-4ba4-cadd-253e11bc5e60",
        "colab": {
          "base_uri": "https://localhost:8080/",
          "height": 466
        }
      },
      "source": [
        "# Checking for correlations between features\n",
        "#\n",
        "plt.figure(figsize = (10, 6))\n",
        "sns.heatmap(data.corr(), annot = True) \n",
        "plt.title('Heatmap showing correlation between variables')\n",
        "plt.show()"
      ],
      "execution_count": null,
      "outputs": [
        {
          "output_type": "display_data",
          "data": {
            "image/png": "[encoded data removed]",
            "text/plain": [
              "<Figure size 720x432 with 2 Axes>"
            ]
          },
          "metadata": {
            "tags": [],
            "needs_background": "light"
          }
        }
      ]
    },
    {
      "cell_type": "markdown",
      "metadata": {
        "id": "KOa_P3laCYW1"
      },
      "source": [
        "#### Creating a LogisticRegression model"
      ]
    },
    {
      "cell_type": "code",
      "metadata": {
        "id": "TAJWt3Yd3CdV"
      },
      "source": [
        "# Splitting the data into features and the target variable\n",
        "#\n",
        "\n",
        "from sklearn.linear_model import LogisticRegression\n",
        "X = data.drop('Status', axis = 1)\n",
        "y = data.Status\n",
        "\n",
        "# Encoding the categorical features\n",
        "#\n",
        "X = pd.get_dummies(X, drop_first=True)\n",
        "\n",
        "# Spliting the data into training and testing sets\n",
        "#\n",
        "X_train, X_test, y_train, y_test = train_test_split(X, y, test_size = 0.25, random_state = 101)\n",
        "\n",
        "# Instantiating the model and training the model\n",
        "#\n",
        "logistic = LogisticRegression()\n",
        "logistic.fit(X_train, y_train)\n",
        "\n",
        "# Making predictions\n",
        "#\n",
        "y_pred = logistic.predict(X_test)\n",
        "\n"
      ],
      "execution_count": null,
      "outputs": []
    },
    {
      "cell_type": "code",
      "metadata": {
        "id": "XSbl-kHc2DWw",
        "outputId": "eb7f93dc-b711-4fec-fdab-e210cb9966c6",
        "colab": {
          "base_uri": "https://localhost:8080/"
        }
      },
      "source": [
        "# Measuring the accuracy of the model\n",
        "#\n",
        "print(f'The accuracy of the model is {accuracy_score(y_test, y_pred)}')\n"
      ],
      "execution_count": null,
      "outputs": [
        {
          "output_type": "stream",
          "text": [
            "The accuracy of the model is 1.0\n"
          ],
          "name": "stdout"
        }
      ]
    },
    {
      "cell_type": "code",
      "metadata": {
        "id": "4-vIJh142_XP",
        "outputId": "c26b2e62-8a2a-4eda-baa5-81de18aaf076",
        "colab": {
          "base_uri": "https://localhost:8080/"
        }
      },
      "source": [
        "# Evaluating the model\n",
        "#\n",
        "from sklearn.metrics import confusion_matrix\n",
        "confusion_matrix = confusion_matrix(y_test, y_pred)\n",
        "confusion_matrix"
      ],
      "execution_count": null,
      "outputs": [
        {
          "output_type": "execute_result",
          "data": {
            "text/plain": [
              "array([[42574,     0,     0],\n",
              "       [    0, 47845,     0],\n",
              "       [    0,     0, 82147]])"
            ]
          },
          "metadata": {
            "tags": []
          },
          "execution_count": 98
        }
      ]
    },
    {
      "cell_type": "markdown",
      "metadata": {
        "id": "_qoB-Q6bJgK6"
      },
      "source": [
        "*The model above has an accuracy of approximately 100% \n",
        "The model is clearly overfitting on the training data; further investigation and assessment is needed*"
      ]
    },
    {
      "cell_type": "markdown",
      "metadata": {
        "id": "vNrNzVhVKO36"
      },
      "source": [
        "#### Hyperparameter tuning"
      ]
    },
    {
      "cell_type": "code",
      "metadata": {
        "id": "pjCNO5X03CY9",
        "outputId": "1448d7e0-5440-43ff-d460-dabbfc88851c",
        "colab": {
          "base_uri": "https://localhost:8080/"
        }
      },
      "source": [
        "# Displaying parameters of the logistic regression model that can be tuned\n",
        "#\n",
        "LogisticRegression()"
      ],
      "execution_count": null,
      "outputs": [
        {
          "output_type": "execute_result",
          "data": {
            "text/plain": [
              "LogisticRegression(C=1.0, class_weight=None, dual=False, fit_intercept=True,\n",
              "                   intercept_scaling=1, l1_ratio=None, max_iter=100,\n",
              "                   multi_class='auto', n_jobs=None, penalty='l2',\n",
              "                   random_state=None, solver='lbfgs', tol=0.0001, verbose=0,\n",
              "                   warm_start=False)"
            ]
          },
          "metadata": {
            "tags": []
          },
          "execution_count": 100
        }
      ]
    },
    {
      "cell_type": "code",
      "metadata": {
        "id": "EAIdDIpb3CVc",
        "outputId": "2f948fde-7244-447b-ffd6-633dac3b8174",
        "colab": {
          "base_uri": "https://localhost:8080/"
        }
      },
      "source": [
        "# Creating a dictionary of parameters to be tuned\n",
        "#\n",
        "params = {'C': [1.0, 5.0],\n",
        "         'penalty': ['l1', 'l2']}\n",
        "\n",
        "logistic = LogisticRegression()\n",
        "\n",
        "# Creating a cross validation of 10 folds\n",
        "#\n",
        "kfold = KFold(n_splits = 10)\n",
        "\n",
        "# Using grid search to find the optimal parameters\n",
        "#\n",
        "grid_search = GridSearchCV(estimator=logistic, param_grid = params, cv = kfold, scoring = 'accuracy')\n",
        "\n",
        "# Fitting the grid search \n",
        "#\n",
        "grid_search_results = grid_search.fit(X, y)\n",
        "\n",
        "# Displaying the best parameters and the the best score\n",
        "#\n",
        "print(f'Best score is {grid_search.best_score_} and the best parameters are {grid_search.best_params_}')"
      ],
      "execution_count": null,
      "outputs": [
        {
          "output_type": "stream",
          "text": [
            "Best score is 1.0 and the best parameters are {'C': 1.0, 'penalty': 'l2'}\n"
          ],
          "name": "stdout"
        }
      ]
    },
    {
      "cell_type": "markdown",
      "metadata": {
        "id": "KYULKol_W8J1"
      },
      "source": [
        "*From above, it can observed that the best parameters are {'C': 1.0, 'penalty': 'l2'} L2 works very well to avoid over-fitting issue*"
      ]
    }
  ]
}